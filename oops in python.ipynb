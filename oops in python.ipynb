{
 "cells": [
  {
   "cell_type": "code",
   "execution_count": 7,
   "id": "f42a4e48",
   "metadata": {},
   "outputs": [
    {
     "name": "stdout",
     "output_type": "stream",
     "text": [
      "22\n"
     ]
    }
   ],
   "source": [
    "#program to access a class variable using a class object\n",
    "class abc:\n",
    "    var=22\n",
    "obj=abc()\n",
    "print(obj.var)"
   ]
  },
  {
   "cell_type": "code",
   "execution_count": 4,
   "id": "18274a1b",
   "metadata": {},
   "outputs": [
    {
     "name": "stdout",
     "output_type": "stream",
     "text": [
      "22\n",
      "this is class method\n"
     ]
    }
   ],
   "source": [
    "#program to access a class member using class object\n",
    "class abc:\n",
    "    var=22\n",
    "    def display(self):\n",
    "        print(\"this is class method\")\n",
    "obj=abc() #first prints abc value\n",
    "print(obj.var)\n",
    "obj.display()#displays the display method\n",
    "    "
   ]
  },
  {
   "cell_type": "code",
   "execution_count": 9,
   "id": "953fc6dc",
   "metadata": {},
   "outputs": [
    {
     "name": "stdout",
     "output_type": "stream",
     "text": [
      "in class method\n",
      "the value is: 10\n"
     ]
    }
   ],
   "source": [
    "#program to illustrate the constructor\n",
    "#__init__().....method\n",
    "\n",
    "class abc:\n",
    "    def __init__(self,val): #used for constructor,self is defoault parameter in constructor,constructor is used to pass values to the obj\n",
    "        print(\"in class method\")\n",
    "        self.val=val\n",
    "        print(\"the value is:\",val)\n",
    "obj=abc(10)        \n"
   ]
  },
  {
   "cell_type": "code",
   "execution_count": 10,
   "id": "ce2ee344",
   "metadata": {},
   "outputs": [
    {
     "name": "stdout",
     "output_type": "stream",
     "text": [
      "the obj var is 10\n",
      "the class value of c-=var 1\n",
      "the obj var is 20\n",
      "the class value of c-=var 2\n",
      "the obj var is 30\n",
      "the class value of c-=var 3\n"
     ]
    }
   ],
   "source": [
    "#program to differentiate between class and obj variable\n",
    "class abc:\n",
    "    class_var=0\n",
    "    def __init__(self,var):\n",
    "        abc.class_var+=1\n",
    "        self.var=var\n",
    "        print(\"the obj var is\",var)\n",
    "        print(\"the class value of c-=var\",abc.class_var)\n",
    "obj1=abc(10)\n",
    "obj2=abc(20)\n",
    "ob3=abc(30)\n",
    "        "
   ]
  },
  {
   "cell_type": "code",
   "execution_count": 15,
   "id": "a00b4a4b",
   "metadata": {},
   "outputs": [
    {
     "name": "stdout",
     "output_type": "stream",
     "text": [
      "5\n",
      "5 is odd\n"
     ]
    }
   ],
   "source": [
    "#program illustrating a modification on numerics\n",
    "class Number:\n",
    "    even=0\n",
    "    def check(self,num):\n",
    "        if num%2==0:\n",
    "            self.even=1\n",
    "    def even_odd(self,num):\n",
    "        self.check(num)\n",
    "        if self.even==1:\n",
    "            print(num,\"is even\")\n",
    "        else:\n",
    "            print(num,\"is odd\")\n",
    "n=int(input())\n",
    "obj=Number()\n",
    "obj.even_odd(n)"
   ]
  },
  {
   "cell_type": "code",
   "execution_count": 21,
   "id": "350564dc",
   "metadata": {},
   "outputs": [
    {
     "ename": "TypeError",
     "evalue": "number() takes no arguments",
     "output_type": "error",
     "traceback": [
      "\u001b[1;31m---------------------------------------------------------------------------\u001b[0m",
      "\u001b[1;31mTypeError\u001b[0m                                 Traceback (most recent call last)",
      "Cell \u001b[1;32mIn[21], line 10\u001b[0m\n\u001b[0;32m      8\u001b[0m         \u001b[38;5;28;01melse\u001b[39;00m:\n\u001b[0;32m      9\u001b[0m             number\u001b[38;5;241m.\u001b[39ml1\u001b[38;5;241m.\u001b[39mappend(num)   \n\u001b[1;32m---> 10\u001b[0m obj\u001b[38;5;241m=\u001b[39m\u001b[43mnumber\u001b[49m\u001b[43m(\u001b[49m\u001b[38;5;241;43m12\u001b[39;49m\u001b[43m)\u001b[49m\n\u001b[0;32m     11\u001b[0m \u001b[38;5;124;03m'''obj1=number(21)\u001b[39;00m\n\u001b[0;32m     12\u001b[0m \u001b[38;5;124;03mobj2=number(12)\u001b[39;00m\n\u001b[0;32m     13\u001b[0m \u001b[38;5;124;03mobj3=number(20)'''\u001b[39;00m\n\u001b[0;32m     14\u001b[0m \u001b[38;5;28mprint\u001b[39m(number\u001b[38;5;241m.\u001b[39ml)\n",
      "\u001b[1;31mTypeError\u001b[0m: number() takes no arguments"
     ]
    }
   ],
   "source": [
    "class number:\n",
    "    l=[]\n",
    "    l1=[]\n",
    "    def _init_(self,num):\n",
    "        self.num=num\n",
    "        if num%2==0:\n",
    "            number.l.append(num)\n",
    "        else:\n",
    "            number.l1.append(num)   \n",
    "obj=number(12)\n",
    "'''obj1=number(21)\n",
    "obj2=number(12)\n",
    "obj3=number(20)'''\n",
    "print(number.l)\n",
    "print(number.l1)"
   ]
  },
  {
   "cell_type": "code",
   "execution_count": 24,
   "id": "f9635814",
   "metadata": {},
   "outputs": [
    {
     "ename": "TypeError",
     "evalue": "abc() takes no arguments",
     "output_type": "error",
     "traceback": [
      "\u001b[1;31m---------------------------------------------------------------------------\u001b[0m",
      "\u001b[1;31mTypeError\u001b[0m                                 Traceback (most recent call last)",
      "Cell \u001b[1;32mIn[24], line 13\u001b[0m\n\u001b[0;32m     11\u001b[0m         abc\u001b[38;5;241m.\u001b[39mclass_var\u001b[38;5;241m-\u001b[39m\u001b[38;5;241m=\u001b[39m\u001b[38;5;241m1\u001b[39m\n\u001b[0;32m     12\u001b[0m         \u001b[38;5;28mprint\u001b[39m(\u001b[38;5;124m\"\u001b[39m\u001b[38;5;124mobject with value \u001b[39m\u001b[38;5;132;01m%d\u001b[39;00m\u001b[38;5;124m is going out of scope \u001b[39m\u001b[38;5;124m\"\u001b[39m\u001b[38;5;241m%\u001b[39m\u001b[38;5;28mself\u001b[39m\u001b[38;5;241m.\u001b[39mvar)\n\u001b[1;32m---> 13\u001b[0m obj1\u001b[38;5;241m=\u001b[39m\u001b[43mabc\u001b[49m\u001b[43m(\u001b[49m\u001b[38;5;241;43m11\u001b[39;49m\u001b[43m)\u001b[49m\n\u001b[0;32m     14\u001b[0m obj2\u001b[38;5;241m=\u001b[39mabc(\u001b[38;5;241m22\u001b[39m)\n\u001b[0;32m     15\u001b[0m obj3\u001b[38;5;241m=\u001b[39mabc(\u001b[38;5;241m33\u001b[39m)\n",
      "\u001b[1;31mTypeError\u001b[0m: abc() takes no arguments"
     ]
    }
   ],
   "source": [
    "#delete method-------c++ java analogus to destructors\n",
    "#general syntax _del_\n",
    "class abc():\n",
    "    class_var=0\n",
    "    def _init_(self,var):\n",
    "        abc.class_var+=1\n",
    "        self.var=var\n",
    "        print(\"the object value is\",var)\n",
    "        print(\"the class value is\",abc.class_var)\n",
    "    def _del_(self):\n",
    "        abc.class_var-=1\n",
    "        print(\"object with value %d is going out of scope \"%self.var)\n",
    "obj1=abc(11)\n",
    "obj2=abc(22)\n",
    "obj3=abc(33)\n",
    "del obj1\n",
    "del obj2\n",
    "del obj3"
   ]
  },
  {
   "cell_type": "code",
   "execution_count": null,
   "id": "7bb771cf",
   "metadata": {},
   "outputs": [],
   "source": [
    "#_repr_ -------Syntax report of the object\n",
    "#_cmp_ --------compares 2 class objects\n",
    "#_len_---------len(object)\n",
    "#_call_--------it acts like a func to call its instances\n",
    "#_lt,le,eq,ne,gt,ge_------compares 2 objects\n",
    "#_iter_ -------iteration over an object\n",
    "#_getitem_used for indexing \n",
    "'''def _getitem_(sef,val/key)\n",
    "   set itemassign an item to the indexing value'''"
   ]
  },
  {
   "cell_type": "code",
   "execution_count": 26,
   "id": "08862d86",
   "metadata": {},
   "outputs": [
    {
     "name": "stdout",
     "output_type": "stream",
     "text": [
      "4\n",
      "[1, 2, 3, 4, 5, 6, 7, 8, 9]\n",
      "[1, 2, 3, 10, 5, 6, 7, 8, 9]\n",
      "10\n"
     ]
    }
   ],
   "source": [
    "#program to demonstarte get and set items in a laist\n",
    "class numbers:\n",
    "    def __init__(self,mylist):\n",
    "        self.mylist=mylist\n",
    "    def __getitem__(self,index):\n",
    "        return self.mylist[index]\n",
    "    def __setitem__(self,index,val):\n",
    "        self.mylist[index]=val\n",
    "numlist=numbers([1,2,3,4,5,6,7,8,9])\n",
    "print(numlist[3])\n",
    "print(numlist.mylist)\n",
    "numlist[3]=10\n",
    "print(numlist.mylist)\n",
    "print(numlist[3])"
   ]
  },
  {
   "cell_type": "code",
   "execution_count": null,
   "id": "a36f7e42",
   "metadata": {},
   "outputs": [],
   "source": [
    "class abc():\n",
    "    def __init__(self,name,var):\n",
    "        self.name=name\n",
    "    def __rper__(self):\n",
    "        return reepr(self.name)\n",
    "    def __cmp__(self):\n",
    "        return self.var"
   ]
  },
  {
   "cell_type": "code",
   "execution_count": null,
   "id": "b1d95cce",
   "metadata": {},
   "outputs": [],
   "source": [
    "print(dic)\n",
    "dic1={}\n",
    "u=input()\n",
    "p=input()"
   ]
  }
 ],
 "metadata": {
  "kernelspec": {
   "display_name": "Python 3 (ipykernel)",
   "language": "python",
   "name": "python3"
  },
  "language_info": {
   "codemirror_mode": {
    "name": "ipython",
    "version": 3
   },
   "file_extension": ".py",
   "mimetype": "text/x-python",
   "name": "python",
   "nbconvert_exporter": "python",
   "pygments_lexer": "ipython3",
   "version": "3.11.1"
  }
 },
 "nbformat": 4,
 "nbformat_minor": 5
}
