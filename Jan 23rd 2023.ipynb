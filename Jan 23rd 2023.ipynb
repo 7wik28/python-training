{
 "cells": [
  {
   "cell_type": "code",
   "execution_count": 4,
   "id": "3cdd6281",
   "metadata": {},
   "outputs": [
    {
     "name": "stdout",
     "output_type": "stream",
     "text": [
      "2\n",
      "7\n",
      "3\n",
      "7  is greater \n"
     ]
    }
   ],
   "source": [
    "a=int(input())\n",
    "b=int(input())\n",
    "c=int(input())\n",
    "if(a>b and a>c):\n",
    "    print(a,\" is greater\")\n",
    "elif(b>a and b>c):\n",
    "    print(b,\" is greater \")\n",
    "else:\n",
    "    print(c,\" is greater \")"
   ]
  },
  {
   "cell_type": "code",
   "execution_count": 6,
   "id": "783774af",
   "metadata": {},
   "outputs": [
    {
     "name": "stdout",
     "output_type": "stream",
     "text": [
      "234\n",
      "4  is greater \n"
     ]
    }
   ],
   "source": [
    "x=input()\n",
    "a=int(x[0])\n",
    "b=int(x[1])\n",
    "c=int(x[2])\n",
    "if(a>b and a>c):\n",
    "    print(a,\" is greater\")\n",
    "elif(b>a and b>c):\n",
    "    print(b,\" is greater \")\n",
    "else:\n",
    "    print(c,\" is greater \")"
   ]
  },
  {
   "cell_type": "markdown",
   "id": "8960d099",
   "metadata": {},
   "source": [
    " "
   ]
  },
  {
   "cell_type": "code",
   "execution_count": 7,
   "id": "bc486623",
   "metadata": {},
   "outputs": [
    {
     "name": "stdout",
     "output_type": "stream",
     "text": [
      "0\n",
      "1\n",
      "2\n",
      "3\n",
      "4\n"
     ]
    }
   ],
   "source": [
    "for i in range(0,5):\n",
    "    print(i)"
   ]
  },
  {
   "cell_type": "code",
   "execution_count": 14,
   "id": "24c955e0",
   "metadata": {},
   "outputs": [
    {
     "name": "stdout",
     "output_type": "stream",
     "text": [
      "0\n",
      "2\n",
      "4\n"
     ]
    }
   ],
   "source": [
    "x=0\n",
    "while x<5:\n",
    "    print(x)\n",
    "    x+=2\n",
    "    "
   ]
  },
  {
   "cell_type": "code",
   "execution_count": 26,
   "id": "0e7e46d3",
   "metadata": {},
   "outputs": [
    {
     "name": "stdout",
     "output_type": "stream",
     "text": [
      "5\n",
      "\n",
      "\n",
      "1 \n",
      "\n",
      "1 2 \n",
      "\n",
      "1 2 3 \n",
      "\n",
      "1 2 3 4 \n",
      "\n"
     ]
    }
   ],
   "source": [
    "x=int(input())\n",
    "for i in range(x):\n",
    "    for j in range(i):\n",
    "        print(j+1,end=\" \")\n",
    "    print(\"\\n\") "
   ]
  },
  {
   "cell_type": "code",
   "execution_count": 28,
   "id": "66832800",
   "metadata": {},
   "outputs": [
    {
     "name": "stdout",
     "output_type": "stream",
     "text": [
      "6\n",
      "720\n"
     ]
    }
   ],
   "source": [
    "n=int(input())\n",
    "fac=1\n",
    "for i in range(1,n+1):\n",
    "    fac*=i\n",
    "print(fac)    \n",
    "    "
   ]
  },
  {
   "cell_type": "code",
   "execution_count": 31,
   "id": "3a6d32bc",
   "metadata": {},
   "outputs": [
    {
     "name": "stdout",
     "output_type": "stream",
     "text": [
      "7\n",
      "7 is a prime\n"
     ]
    }
   ],
   "source": [
    "#prime number\n",
    "n=int(input())\n",
    "c=0\n",
    "for i in range(1,n+1):\n",
    "    if(n%i==0):\n",
    "        c=c+1\n",
    "if(c==2):\n",
    "    print(n,\"is a prime\")\n",
    "else:\n",
    "    print(n,\"not a prime\")"
   ]
  },
  {
   "cell_type": "code",
   "execution_count": 36,
   "id": "a292f9e4",
   "metadata": {},
   "outputs": [
    {
     "name": "stdout",
     "output_type": "stream",
     "text": [
      "4\n",
      "1 2 3 4\n",
      "10\n",
      "2.5\n"
     ]
    }
   ],
   "source": [
    "#to calculate the average of the elements in a list\n",
    "n=int(input())\n",
    "arr=[int(i) for i in input().split()][:n]\n",
    "print(sum(arr))\n",
    "print(sum(arr)/n)"
   ]
  },
  {
   "cell_type": "code",
   "execution_count": 41,
   "id": "6a84545e",
   "metadata": {},
   "outputs": [
    {
     "name": "stdout",
     "output_type": "stream",
     "text": [
      "['green', 'white', 'black']\n"
     ]
    }
   ],
   "source": [
    "#to remove  from a list of tuple\n",
    "li=[\"red\",\"green\",\"white\",\"black\",\"pink\",\"yellow\"]\n",
    "li.remove(li[0])\n",
    "li.remove(li[3])\n",
    "li.remove(li[3])\n",
    "print(li)"
   ]
  },
  {
   "cell_type": "code",
   "execution_count": 43,
   "id": "df66a4af",
   "metadata": {},
   "outputs": [
    {
     "name": "stdout",
     "output_type": "stream",
     "text": [
      "[(5, 6), 2, ()]\n"
     ]
    }
   ],
   "source": [
    "#program to remove a n empty tuple(s) from a list\n",
    "l=[(5,6),(2),(),tuple(),(1,2,3)]\n",
    "l.remove(tuple())\n",
    "l.remove(())\n",
    "print(l)"
   ]
  },
  {
   "cell_type": "code",
   "execution_count": 50,
   "id": "39464463",
   "metadata": {},
   "outputs": [
    {
     "name": "stdout",
     "output_type": "stream",
     "text": [
      "40320\n"
     ]
    }
   ],
   "source": [
    "#product in tuple\n",
    "pd=1\n",
    "t=(1,2,3,4,5,6,7,8)\n",
    "for i in t:\n",
    "    pd=pd*i\n",
    "print(pd)    "
   ]
  },
  {
   "cell_type": "code",
   "execution_count": null,
   "id": "6a2e4543",
   "metadata": {},
   "outputs": [],
   "source": [
    "#counting repeated characters in a string\n",
    "#reverse a string if its length is a multiple of 4\n",
    "#to seperate even,odd and zeros from a list\n",
    "#split a given dictionary of lists into list of dictionaries\n"
   ]
  }
 ],
 "metadata": {
  "kernelspec": {
   "display_name": "Python 3 (ipykernel)",
   "language": "python",
   "name": "python3"
  },
  "language_info": {
   "codemirror_mode": {
    "name": "ipython",
    "version": 3
   },
   "file_extension": ".py",
   "mimetype": "text/x-python",
   "name": "python",
   "nbconvert_exporter": "python",
   "pygments_lexer": "ipython3",
   "version": "3.11.1"
  }
 },
 "nbformat": 4,
 "nbformat_minor": 5
}
