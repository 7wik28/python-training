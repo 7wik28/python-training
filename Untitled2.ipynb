{
 "cells": [
  {
   "cell_type": "code",
   "execution_count": 3,
   "id": "1e0487a8",
   "metadata": {},
   "outputs": [
    {
     "name": "stdout",
     "output_type": "stream",
     "text": [
      "8\n",
      "10\n",
      "98\n",
      "3\n",
      "33\n",
      "12\n",
      "22\n",
      "21\n",
      "11\n",
      "[10, 98, 12, 22, 3, 33, 21, 11]\n"
     ]
    }
   ],
   "source": [
    "n=int(input())\n",
    "b=[]\n",
    "c=[]\n",
    "sep=[int(input()) for i in range(n)]\n",
    "for i in range(n):\n",
    "    if sep[i]%2==0:\n",
    "        b.append(sep[i])\n",
    "    else:\n",
    "        c.append(sep[i])\n",
    "b.extend(c)\n",
    "print(b)"
   ]
  },
  {
   "cell_type": "code",
   "execution_count": 4,
   "id": "b8f03869",
   "metadata": {},
   "outputs": [
    {
     "ename": "NameError",
     "evalue": "name 'xyz' is not defined",
     "output_type": "error",
     "traceback": [
      "\u001b[1;31m---------------------------------------------------------------------------\u001b[0m",
      "\u001b[1;31mNameError\u001b[0m                                 Traceback (most recent call last)",
      "Cell \u001b[1;32mIn[4], line 4\u001b[0m\n\u001b[0;32m      2\u001b[0m values\u001b[38;5;241m=\u001b[39m[\u001b[38;5;124m'\u001b[39m\u001b[38;5;124mabc\u001b[39m\u001b[38;5;124m'\u001b[39m,\u001b[38;5;124m'\u001b[39m\u001b[38;5;124m100\u001b[39m\u001b[38;5;124m'\u001b[39m,\u001b[38;5;124m'\u001b[39m\u001b[38;5;124maeronautical\u001b[39m\u001b[38;5;124m'\u001b[39m]\n\u001b[0;32m      3\u001b[0m outsource\u001b[38;5;241m=\u001b[39m\u001b[38;5;28mzip\u001b[39m(keys,values)\n\u001b[1;32m----> 4\u001b[0m abc\u001b[38;5;241m=\u001b[39m\u001b[43mxyz\u001b[49m(outsource)\n\u001b[0;32m      5\u001b[0m \u001b[38;5;28mprint\u001b[39m(abc)\n",
      "\u001b[1;31mNameError\u001b[0m: name 'xyz' is not defined"
     ]
    }
   ],
   "source": [
    "keys=['name','age','branch']\n",
    "values=['abc','100','aeronautical']\n",
    "outsource=zip(keys,values)\n",
    "abc=xyz(outsource)\n",
    "print(abc)"
   ]
  },
  {
   "cell_type": "code",
   "execution_count": 5,
   "id": "1731d185",
   "metadata": {},
   "outputs": [
    {
     "name": "stdout",
     "output_type": "stream",
     "text": [
      "3\n",
      "name age branch\n",
      "ram 21 cse\n",
      "['name', 'age', 'branch']\n",
      "['ram', '21', 'cse']\n",
      "{'name': 'ram', 'age': '21', 'branch': 'cse'}\n"
     ]
    }
   ],
   "source": [
    "n=int(input())\n",
    "keys=[i for i in input().split()][:n]\n",
    "values=[i for i in input().split()][:n]\n",
    "print(keys)\n",
    "print(values)\n",
    "di=dict(zip(keys,values))\n",
    "print(di)"
   ]
  },
  {
   "cell_type": "code",
   "execution_count": 6,
   "id": "08e86856",
   "metadata": {},
   "outputs": [
    {
     "ename": "SyntaxError",
     "evalue": "invalid syntax (804172185.py, line 2)",
     "output_type": "error",
     "traceback": [
      "\u001b[1;36m  Cell \u001b[1;32mIn[6], line 2\u001b[1;36m\u001b[0m\n\u001b[1;33m    ''''''example:[0,0,0,1,0].[2,0,0,0,3],[0,0,0,4,0]''''''\u001b[0m\n\u001b[1;37m          ^\u001b[0m\n\u001b[1;31mSyntaxError\u001b[0m\u001b[1;31m:\u001b[0m invalid syntax\n"
     ]
    }
   ],
   "source": [
    "#write a program to store matrix into a dictionary\n",
    "''''''example:[0,0,0,1,0].[2,0,0,0,3],[0,0,0,4,0]''''''\n",
    "    \n",
    "    \n",
    "     "
   ]
  },
  {
   "cell_type": "code",
   "execution_count": 8,
   "id": "14de4553",
   "metadata": {},
   "outputs": [
    {
     "name": "stdout",
     "output_type": "stream",
     "text": [
      "inorder\n",
      "5\n",
      "10\n",
      "14\n",
      "15\n",
      "22\n",
      "24\n",
      "55\n",
      "preorder\n",
      "15\n",
      "10\n",
      "5\n",
      "14\n",
      "24\n",
      "22\n",
      "55\n",
      "postorder\n",
      "5\n",
      "14\n",
      "10\n",
      "22\n",
      "55\n",
      "24\n",
      "15\n"
     ]
    }
   ],
   "source": [
    "#write a program to insert delete a node in a single linked list\n",
    "class bt:\n",
    "    def __init__(self,data):\n",
    "        self.data=data\n",
    "        self.lc=None\n",
    "        self.rc=None\n",
    "def insert(root,newvalue):\n",
    "    if root is None:\n",
    "        root=bt(newvalue)\n",
    "        return root\n",
    "    if newvalue<root.data:\n",
    "        root.lc=insert(root.lc,newvalue)\n",
    "    else:\n",
    "        root.rc=insert(root.rc,newvalue)\n",
    "    return root\n",
    "def inorder(root):\n",
    "    if root==None:\n",
    "        return\n",
    "    inorder(root.lc)\n",
    "    print(root.data)\n",
    "    inorder(root.rc)\n",
    "def preorder(root):\n",
    "    if root==None:\n",
    "        return\n",
    "    print(root.data)\n",
    "    preorder(root.lc)\n",
    "    preorder(root.rc) \n",
    "def postorder(root):\n",
    "    if root==None:\n",
    "        return\n",
    "    postorder(root.lc)\n",
    "    postorder(root.rc)\n",
    "    print(root.data)\n",
    "root=insert(None,15)\n",
    "insert(root,10)\n",
    "insert(root,24)\n",
    "insert(root,5)\n",
    "insert(root,14)\n",
    "insert(root,22)\n",
    "insert(root,55)\n",
    "print(\"inorder\")\n",
    "inorder(root)\n",
    "print(\"preorder\")\n",
    "preorder(root)\n",
    "print(\"postorder\")\n",
    "postorder(root)\n",
    "\n"
   ]
  },
  {
   "cell_type": "code",
   "execution_count": null,
   "id": "9d3d13dd",
   "metadata": {},
   "outputs": [],
   "source": [
    "s1=input()\n",
    "s2=input()\n",
    "for i in range(len(str)):\n",
    "    "
   ]
  }
 ],
 "metadata": {
  "kernelspec": {
   "display_name": "Python 3 (ipykernel)",
   "language": "python",
   "name": "python3"
  },
  "language_info": {
   "codemirror_mode": {
    "name": "ipython",
    "version": 3
   },
   "file_extension": ".py",
   "mimetype": "text/x-python",
   "name": "python",
   "nbconvert_exporter": "python",
   "pygments_lexer": "ipython3",
   "version": "3.11.1"
  }
 },
 "nbformat": 4,
 "nbformat_minor": 5
}
