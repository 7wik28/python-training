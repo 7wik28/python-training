{
 "cells": [
  {
   "cell_type": "code",
   "execution_count": 2,
   "id": "c51e7fc8",
   "metadata": {},
   "outputs": [
    {
     "name": "stdout",
     "output_type": "stream",
     "text": [
      "Aate Bate Cate Date Eate Fate Gate Hate "
     ]
    }
   ],
   "source": [
    "#abeledarian series\n",
    "str1=\"ABCDEFGH\"\n",
    "str2=\"ate\"\n",
    "for letter in str1:\n",
    "    print(letter +str2,end=\" \")"
   ]
  },
  {
   "cell_type": "code",
   "execution_count": null,
   "id": "c5883949",
   "metadata": {},
   "outputs": [],
   "source": [
    "#patterns\n",
    "# 1.Basic patterns\n",
    "# 2.Mirror image patterns\n",
    "# 3.Symmetrical ptterns\n",
    "# 4.Choice of patterns\n",
    "# 5.Anti-patterns"
   ]
  },
  {
   "cell_type": "code",
   "execution_count": 27,
   "id": "86a78f1b",
   "metadata": {},
   "outputs": [
    {
     "name": "stdout",
     "output_type": "stream",
     "text": [
      "enter number of rows:5\n",
      "$ \n",
      "\n",
      "$ $ \n",
      "\n",
      "$ $ $ \n",
      "\n",
      "$ $ $ $ \n",
      "\n",
      "$ $ $ $ $ \n",
      "\n"
     ]
    }
   ],
   "source": [
    "rows=int(input(\"enter number of rows:\"))\n",
    "for i in range(rows):\n",
    "    for j in range(i+1):\n",
    "        print(\"$ \",end=\"\")\n",
    "    print(\"\\n\")  "
   ]
  },
  {
   "cell_type": "code",
   "execution_count": 24,
   "id": "6767719d",
   "metadata": {},
   "outputs": [
    {
     "name": "stdout",
     "output_type": "stream",
     "text": [
      "enter number of rows:5\n",
      "1 \n",
      "\n",
      "1 2 \n",
      "\n",
      "1 2 3 \n",
      "\n",
      "1 2 3 4 \n",
      "\n",
      "1 2 3 4 5 \n",
      "\n"
     ]
    }
   ],
   "source": [
    "rows=int(input(\"enter number of rows:\"))\n",
    "for i in range(rows):\n",
    "    for j in range(i+1):\n",
    "        print(j+1 ,end=\" \")\n",
    "    print(\"\\n\")  "
   ]
  },
  {
   "cell_type": "code",
   "execution_count": 13,
   "id": "fe9110c4",
   "metadata": {},
   "outputs": [
    {
     "name": "stdout",
     "output_type": "stream",
     "text": [
      "enter number of rows:5\n",
      "1 2 3 4 5 \n",
      "\n",
      "1 2 3 4 \n",
      "\n",
      "1 2 3 \n",
      "\n",
      "1 2 \n",
      "\n",
      "1 \n",
      "\n"
     ]
    }
   ],
   "source": [
    "rows=int(input(\"enter number of rows:\"))\n",
    "for i in range(rows,0,-1):\n",
    "    for j in range(0,i):\n",
    "        print(j+1,end=\" \")\n",
    "    print(\"\\n\")  "
   ]
  },
  {
   "cell_type": "code",
   "execution_count": 38,
   "id": "a9a246da",
   "metadata": {},
   "outputs": [
    {
     "name": "stdout",
     "output_type": "stream",
     "text": [
      "enter number of rows:5\n",
      "1 2 3 4 5 \n",
      " 2 3 4 5 \n",
      "  3 4 5 \n",
      "   4 5 \n",
      "    5 \n"
     ]
    }
   ],
   "source": [
    "rows=int(input(\"enter number of rows:\"))\n",
    "for i in range(1,rows+1):\n",
    "    for j in range(1,rows+1):\n",
    "        if(j<i):\n",
    "            print(\" \",end=\" \")\n",
    "        else:\n",
    "            print(j,end=\" \")\n",
    "    print()    "
   ]
  },
  {
   "cell_type": "code",
   "execution_count": 37,
   "id": "0e5ec092",
   "metadata": {},
   "outputs": [
    {
     "name": "stdout",
     "output_type": "stream",
     "text": [
      "enter number of rows:5\n",
      "$ $ $ $ $ \n",
      "\n",
      "$ $ $ $ \n",
      "\n",
      "$ $ $ \n",
      "\n",
      "$ $ \n",
      "\n",
      "$ \n",
      "\n"
     ]
    }
   ],
   "source": [
    "rows=int(input(\"enter number of rows:\"))\n",
    "for i in range(rows,0,-1):\n",
    "    for j in range(i):\n",
    "        print(\"$ \",end=\"\")\n",
    "    print(\"\\n\")  "
   ]
  },
  {
   "cell_type": "code",
   "execution_count": 33,
   "id": "d0de1598",
   "metadata": {},
   "outputs": [
    {
     "name": "stdout",
     "output_type": "stream",
     "text": [
      "enter number of rows:5\n",
      "1 2 3 4 5 \n",
      "  2 3 4 5 \n",
      "    3 4 5 \n",
      "      4 5 \n",
      "        5 \n"
     ]
    }
   ],
   "source": [
    "rows=int(input(\"enter number of rows:\"))\n",
    "for i in range(1,rows+1):\n",
    "    for j in range(1,rows+1):\n",
    "        if(j<i):\n",
    "            print(\" \",end=\" \")\n",
    "        else:\n",
    "            print(j,end=\" \")\n",
    "    print()    "
   ]
  },
  {
   "cell_type": "code",
   "execution_count": 39,
   "id": "515b3eb8",
   "metadata": {},
   "outputs": [
    {
     "name": "stdout",
     "output_type": "stream",
     "text": [
      "Enter rows=5\n",
      "* * * * * \n",
      " * * * * \n",
      "  * * * \n",
      "   * * \n",
      "    * \n"
     ]
    }
   ],
   "source": [
    "rows=int(input(\"Enter rows=\"))\n",
    "i=1\n",
    "while(i<=rows):\n",
    "  j=1\n",
    "  while(j<=rows):\n",
    "    if j<i:\n",
    "      print(\"\",end=\" \")\n",
    "    else:\n",
    "      print(\"*\",end=\" \")\n",
    "    j=j+1\n",
    "  i=i+1\n",
    "  print()"
   ]
  },
  {
   "cell_type": "code",
   "execution_count": 40,
   "id": "fea8ce18",
   "metadata": {},
   "outputs": [
    {
     "name": "stdout",
     "output_type": "stream",
     "text": [
      "enter the rows=5\n",
      "*  \n",
      "*   *\n",
      "*       *\n",
      "*           *\n",
      "*               *\n",
      "*             *\n",
      "*         *\n",
      "*     *\n",
      "*  \n"
     ]
    }
   ],
   "source": [
    "#diamond or rhombus pattern\n",
    "rows=int(input(\"enter the rows=\"))\n",
    "i=1\n",
    "while i<=rows:\n",
    "  j=rows\n",
    "  while j<i:\n",
    "    print(\" \",end=\" \")\n",
    "    j-=1\n",
    "  print(\"*\",end=\" \")\n",
    "  k=1\n",
    "  while k<2 *(i-1):\n",
    "    print(\" \",end=\" \")\n",
    "    k+=1\n",
    "  if i==1:\n",
    "    print(\" \")\n",
    "  else:\n",
    "    print(\"*\")\n",
    "  i+=1\n",
    "i=rows-1\n",
    "while i>=1:\n",
    "  j=rows\n",
    "  while j<i:\n",
    "    print(\" \",end=\" \")\n",
    "    j-=1\n",
    "  print(\"*\",end=\" \")\n",
    "  k=1\n",
    "  while k<=2 *(i-1):\n",
    "    print(\" \",end=\" \")\n",
    "    k+=1\n",
    "  if i==1:\n",
    "    print(\" \")\n",
    "  else:\n",
    "    print(\"*\")\n",
    "  i-=1"
   ]
  },
  {
   "cell_type": "code",
   "execution_count": 41,
   "id": "6560e2f4",
   "metadata": {},
   "outputs": [
    {
     "name": "stdout",
     "output_type": "stream",
     "text": [
      "enter the rows=5\n",
      "        * \n",
      "      *   *\n",
      "    *       *\n",
      "  *           *\n",
      "*               *\n",
      "  *           *\n",
      "    *       *\n",
      "      *   *\n",
      "        * \n"
     ]
    }
   ],
   "source": [
    "rows=int(input(\"enter the rows=\"))\n",
    "i=1\n",
    "while i<=rows:\n",
    "  j=rows\n",
    "  while j>i:\n",
    "    print(\" \",end=\" \")\n",
    "    j-=1\n",
    "  print(\"*\",end=\" \")\n",
    "  k=1\n",
    "  while k<2 *(i-1):\n",
    "    print(\" \",end=\" \")\n",
    "    k+=1\n",
    "  if i==1:\n",
    "    print()\n",
    "  else:\n",
    "    print(\"*\")\n",
    "  i+=1\n",
    "i=rows-1\n",
    "while i>=1:\n",
    "  j=rows\n",
    "  while j>i:\n",
    "    print(\" \",end=\" \")\n",
    "    j-=1\n",
    "  print(\"*\",end=\" \")\n",
    "  k=1\n",
    "  while k<2 *(i-1):\n",
    "    print(\" \",end=\" \")\n",
    "    k+=1\n",
    "  if i==1:\n",
    "    print()\n",
    "  else:\n",
    "    print(\"*\")\n",
    "  i-=1"
   ]
  },
  {
   "cell_type": "code",
   "execution_count": 1,
   "id": "a4100238",
   "metadata": {},
   "outputs": [
    {
     "name": "stdout",
     "output_type": "stream",
     "text": [
      "s \n",
      "\n",
      "s a \n",
      "\n",
      "s a t \n",
      "\n",
      "s a t h \n",
      "\n",
      "s a t h w \n",
      "\n",
      "s a t h w i \n",
      "\n",
      "s a t h w i k \n",
      "\n",
      "s a t h w i k   \n",
      "\n",
      "s a t h w i k   h \n",
      "\n",
      "s a t h w i k   h a \n",
      "\n",
      "s a t h w i k   h a v \n",
      "\n",
      "s a t h w i k   h a v e \n",
      "\n",
      "s a t h w i k   h a v e   \n",
      "\n",
      "s a t h w i k   h a v e   3 \n",
      "\n",
      "s a t h w i k   h a v e   3   \n",
      "\n",
      "s a t h w i k   h a v e   3   l \n",
      "\n",
      "s a t h w i k   h a v e   3   l o \n",
      "\n",
      "s a t h w i k   h a v e   3   l o v \n",
      "\n",
      "s a t h w i k   h a v e   3   l o v e \n",
      "\n",
      "s a t h w i k   h a v e   3   l o v e r \n",
      "\n",
      "s a t h w i k   h a v e   3   l o v e r s \n",
      "\n"
     ]
    }
   ],
   "source": [
    "string=\"sathwik have 3 lovers\"\n",
    "for i in range(len(string)):\n",
    "  for j in range(i+1):\n",
    "    print(string[j],end=\" \")\n",
    "  print(\"\\n\")"
   ]
  },
  {
   "cell_type": "code",
   "execution_count": 43,
   "id": "6618d1b3",
   "metadata": {},
   "outputs": [
    {
     "name": "stdout",
     "output_type": "stream",
     "text": [
      "C\n",
      "Ca\n",
      "Cal\n",
      "Cali\n",
      "Calif\n",
      "Califo\n",
      "Califor\n",
      "Californ\n",
      "Californi\n",
      "California\n"
     ]
    }
   ],
   "source": [
    "word=\"California\"\n",
    "x=\"\"\n",
    "for i in word:\n",
    "    x+=i\n",
    "    print(x)"
   ]
  },
  {
   "cell_type": "code",
   "execution_count": 2,
   "id": "0c8aee11",
   "metadata": {},
   "outputs": [
    {
     "name": "stdout",
     "output_type": "stream",
     "text": [
      " \n",
      "A  \n",
      "B C  \n",
      "D E F  \n",
      "G H I J  \n",
      "K L M N O  \n",
      "P Q R S T U  \n",
      "V W X Y Z [ \\  \n",
      "] ^ _ ` a b c d  \n",
      "e f g h i j k l m  \n",
      "n o p q r s t u v w  \n",
      "x y z { | } ~      \n"
     ]
    }
   ],
   "source": [
    "a=65\n",
    "r=12\n",
    "for i in range(0,r):\n",
    "  for j in range(1,i+1):\n",
    "    ch=chr(a)\n",
    "    print(ch,end=\" \")\n",
    "    a+=1\n",
    "  print(\" \")"
   ]
  },
  {
   "cell_type": "code",
   "execution_count": 3,
   "id": "7aa61507",
   "metadata": {},
   "outputs": [
    {
     "name": "stdout",
     "output_type": "stream",
     "text": [
      "                                                                                                                                A  \n",
      "                                                                                                                               B C  \n",
      "                                                                                                                              D E F  \n",
      "                                                                                                                             G H I J  \n",
      "                                                                                                                            K L M N O  \n",
      "                                                                                                                           P Q R S T U  \n",
      "                                                                                                                          V W X Y Z [ \\  \n",
      "                                                                                                                         ] ^ _ ` a b c d  \n",
      "                                                                                                                        e f g h i j k l m  \n",
      "                                                                                                                       n o p q r s t u v w  \n",
      "                                                                                                                      x y z { | } ~      \n",
      "                                                                                                                       ",
      "           \n"
     ]
    }
   ],
   "source": [
    "a=65\n",
    "r=12\n",
    "m=(2*a)-2\n",
    "for i in range(0,r):\n",
    "  for j in range(0,m):\n",
    "    print(end=\" \")\n",
    "  m=m-1\n",
    "  for j in range(0,i+1):\n",
    "    ch=chr(a)\n",
    "    print(ch,end=\" \")\n",
    "    a+=1\n",
    "  print(\" \")"
   ]
  },
  {
   "cell_type": "code",
   "execution_count": 4,
   "id": "cf703c69",
   "metadata": {},
   "outputs": [
    {
     "name": "stdout",
     "output_type": "stream",
     "text": [
      "enter the numner:5\n",
      "1 \n",
      "\n",
      "2 4 \n",
      "\n",
      "3 6 9 \n",
      "\n",
      "4 8 12 16 \n",
      "\n",
      "5 10 15 20 25 \n",
      "\n"
     ]
    }
   ],
   "source": [
    "m=int(input(\"enter the numner:\"))\n",
    "k=1\n",
    "for i in range(1,m+1):\n",
    "  for j in range(1,i+1):\n",
    "    print(i*j,end=\" \")\n",
    "  print(\"\\n\")"
   ]
  },
  {
   "cell_type": "code",
   "execution_count": 5,
   "id": "6da57ebe",
   "metadata": {},
   "outputs": [
    {
     "ename": "SyntaxError",
     "evalue": "invalid syntax (1102002676.py, line 2)",
     "output_type": "error",
     "traceback": [
      "\u001b[1;36m  Cell \u001b[1;32mIn[5], line 2\u001b[1;36m\u001b[0m\n\u001b[1;33m    def username(arg1,arg2,...n):\u001b[0m\n\u001b[1;37m                           ^\u001b[0m\n\u001b[1;31mSyntaxError\u001b[0m\u001b[1;31m:\u001b[0m invalid syntax\n"
     ]
    }
   ],
   "source": [
    "#functions\n",
    "def username(arg1,arg2,...n):\n",
    "    --------\n",
    "    --------\n",
    "    return ''''''\n",
    "def diff(a,b):\n",
    "    return a-b\n",
    "a=20\n",
    "b=10\n",
    "operation = diff\n",
    "print(operation(x,y))"
   ]
  },
  {
   "cell_type": "code",
   "execution_count": null,
   "id": "ecf5050a",
   "metadata": {},
   "outputs": [],
   "source": []
  }
 ],
 "metadata": {
  "kernelspec": {
   "display_name": "Python 3 (ipykernel)",
   "language": "python",
   "name": "python3"
  },
  "language_info": {
   "codemirror_mode": {
    "name": "ipython",
    "version": 3
   },
   "file_extension": ".py",
   "mimetype": "text/x-python",
   "name": "python",
   "nbconvert_exporter": "python",
   "pygments_lexer": "ipython3",
   "version": "3.11.1"
  }
 },
 "nbformat": 4,
 "nbformat_minor": 5
}
