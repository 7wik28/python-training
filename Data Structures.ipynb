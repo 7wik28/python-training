{
 "cells": [
  {
   "cell_type": "code",
   "execution_count": 1,
   "id": "28879968",
   "metadata": {},
   "outputs": [
    {
     "name": "stdout",
     "output_type": "stream",
     "text": [
      "30\n"
     ]
    }
   ],
   "source": [
    "a=10\n",
    "b=20\n",
    "c=a+b\n",
    "print(c)"
   ]
  },
  {
   "cell_type": "code",
   "execution_count": 5,
   "id": "54e685b5",
   "metadata": {},
   "outputs": [
    {
     "name": "stdout",
     "output_type": "stream",
     "text": [
      "6\n",
      "101000\n",
      "1\n"
     ]
    }
   ],
   "source": [
    "size=int(input())\n",
    "max=0\n",
    "count=0\n",
    "flag=0\n",
    "str=input()\n",
    "arr=list(str)\n",
    "for i in range(0,size):\n",
    "    if arr[i]=='1':\n",
    "        count=count+1\n",
    "        flag=1\n",
    "    elif(arr[i]=='0' and flag==1):\n",
    "        count=0\n",
    "        flag=0\n",
    "    if count>max:\n",
    "        max=count\n",
    "print(max)    "
   ]
  },
  {
   "cell_type": "code",
   "execution_count": null,
   "id": "b2323cc9",
   "metadata": {},
   "outputs": [],
   "source": [
    "class bt:\n",
    "    def __init__(self,data):\n",
    "        self.data=data\n",
    "        self.c=None\n",
    "        self.rc=None\n",
    "def insert(root,newvalue):\n",
    "    if root is None:\n",
    "        root=bt(newvalue)"
   ]
  }
 ],
 "metadata": {
  "kernelspec": {
   "display_name": "Python 3 (ipykernel)",
   "language": "python",
   "name": "python3"
  },
  "language_info": {
   "codemirror_mode": {
    "name": "ipython",
    "version": 3
   },
   "file_extension": ".py",
   "mimetype": "text/x-python",
   "name": "python",
   "nbconvert_exporter": "python",
   "pygments_lexer": "ipython3",
   "version": "3.11.1"
  }
 },
 "nbformat": 4,
 "nbformat_minor": 5
}
