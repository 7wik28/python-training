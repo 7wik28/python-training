{
 "cells": [
  {
   "cell_type": "markdown",
   "id": "a273bda1",
   "metadata": {},
   "source": []
  },
  {
   "cell_type": "code",
   "execution_count": 4,
   "id": "f19896c8",
   "metadata": {},
   "outputs": [
    {
     "name": "stdout",
     "output_type": "stream",
     "text": [
      "35\n"
     ]
    }
   ],
   "source": [
    "import random\n",
    "print(random.randint(1,100))"
   ]
  },
  {
   "cell_type": "code",
   "execution_count": 7,
   "id": "c3b6931a",
   "metadata": {},
   "outputs": [
    {
     "name": "stdout",
     "output_type": "stream",
     "text": [
      "['rock', 'paper', 'scissor']\n",
      "choose from above rock\n",
      "computer wins\n"
     ]
    }
   ],
   "source": [
    "from random import randint\n",
    "choice=['rock','paper','scissor']\n",
    "print(choice)\n",
    "player=input(\"choose from above \").lower\n",
    "comp=choice[randint(0,2)]\n",
    "if player==comp:\n",
    "    print(\"draw match\")\n",
    "elif player==\"paper\"and comp==\"rock\":\n",
    "    print(\"player 1 wins\")\n",
    "elif player==\"rock\" and comp==\"scissor\":\n",
    "    print(\"player 1 wins\")\n",
    "elif player==\"scissor\"and comp==\"paper\":\n",
    "    print(\"player wins\")\n",
    "else:\n",
    "    print(\"computer wins\")"
   ]
  },
  {
   "cell_type": "code",
   "execution_count": 8,
   "id": "8f79da03",
   "metadata": {},
   "outputs": [
    {
     "name": "stdout",
     "output_type": "stream",
     "text": [
      "Enter Your Decision:rock\n",
      "!PROCEED!\n",
      "COMPUTER'S DECISION -> rock\n",
      "PLAYER'S DECISION -> rock\n",
      "!DRAWWWW!\n",
      "PLAYAGAIN.....!\n",
      "Player's Points:  0\n",
      "Computer's Points:  0\n"
     ]
    }
   ],
   "source": [
    "arr=['rock','paper','scissor']\n",
    "i=input(\"Enter Your Decision:\")\n",
    "P=0\n",
    "C=0\n",
    "if i not in arr:\n",
    "  print(\"!Invalid Input!\\n!TRYAGAIN.....!\")\n",
    "else:\n",
    "  print(\"!PROCEED!\")\n",
    "a=random.randint(0,2)\n",
    "comp=arr[a]\n",
    "print(\"COMPUTER'S DECISION ->\",comp)\n",
    "print(\"PLAYER'S DECISION ->\",i)\n",
    "if(comp==i):\n",
    "  print(\"!DRAWWWW!\\nPLAYAGAIN.....!\")\n",
    "else:\n",
    "  if(comp=='rock' and i=='scissor'):\n",
    "    print(\"COMPUTER WINS\")\n",
    "    C=C+1\n",
    "  elif(comp=='paper' and i=='rock'):\n",
    "    print(\"COMPUTER WINS\")\n",
    "    C=C+1\n",
    "  elif(comp=='scissor' and i=='paper'):\n",
    "    print(\"COMPUTER WINS\")\n",
    "    C=C+1\n",
    "  else:\n",
    "    print(\"PLAYER WINS\")\n",
    "    P=P+1\n",
    "print(\"Player's Points: \",P)\n",
    "print(\"Computer's Points: \",C)"
   ]
  },
  {
   "cell_type": "code",
   "execution_count": null,
   "id": "9a71f285",
   "metadata": {},
   "outputs": [
    {
     "name": "stdout",
     "output_type": "stream",
     "text": [
      "enter choicerock\n"
     ]
    }
   ],
   "source": [
    "import random\n",
    "arr=['ROCK','paper','scessor']\n",
    "scount=0\n",
    "ucount=0\n",
    "while True:\n",
    "    choice=input(\"enter choice\")\n",
    "    a=random.choice(arr)\n",
    "    if(a==choice):\n",
    "        print(\"TIE GAME\")\n",
    "    elif(choice==arr[0] and a==arr[1]):\n",
    "        print(\"user has won the game \")\n",
    "        ucount=ucount+1\n",
    "    elif(choice==arr[1] and a==arr[0]):\n",
    "        print(\"system has won \")\n",
    "        scount=scount+1\n",
    "    elif(choice==arr[0] and a==arr[2]):\n",
    "        print(\"USER has won \")\n",
    "        ucount=ucount+1\n",
    "    elif(choice==arr[1] and a==arr[0]):\n",
    "        print(\"system has won \")\n",
    "        scount=scount+1\n",
    "    elif(choice==arr[2] and a==arr[1]):\n",
    "        print(\"system has won \")\n",
    "        scount=scount+1\n",
    "    elif(choice==arr[1] and a==arr[2]):\n",
    "        print(\"system has won \")\n",
    "        scount=scount+1\n",
    "    if(scount==5):\n",
    "        print(\"system has won\")\n",
    "        break\n",
    "    elif(ucount==5):\n",
    "        print(\"user has won \")\n",
    "        break"
   ]
  },
  {
   "cell_type": "code",
   "execution_count": null,
   "id": "d786b719",
   "metadata": {},
   "outputs": [],
   "source": []
  }
 ],
 "metadata": {
  "kernelspec": {
   "display_name": "Python 3 (ipykernel)",
   "language": "python",
   "name": "python3"
  },
  "language_info": {
   "codemirror_mode": {
    "name": "ipython",
    "version": 3
   },
   "file_extension": ".py",
   "mimetype": "text/x-python",
   "name": "python",
   "nbconvert_exporter": "python",
   "pygments_lexer": "ipython3",
   "version": "3.11.1"
  }
 },
 "nbformat": 4,
 "nbformat_minor": 5
}
