{
 "cells": [
  {
   "cell_type": "code",
   "execution_count": 3,
   "id": "09657ddd",
   "metadata": {},
   "outputs": [],
   "source": [
    "def lateRide(n):\n",
    "    sec = n%60\n",
    "    minu = (n-sec)/60\n",
    "    temp = 0\n",
    "    while sec:\n",
    "        temp += sec%10\n",
    "        sec //= 10\n",
    "    while minu:\n",
    "        temp += minu%10\n",
    "        minu //=10\n",
    "    return temp"
   ]
  },
  {
   "cell_type": "code",
   "execution_count": null,
   "id": "c662ec94",
   "metadata": {},
   "outputs": [],
   "source": []
  }
 ],
 "metadata": {
  "kernelspec": {
   "display_name": "Python 3 (ipykernel)",
   "language": "python",
   "name": "python3"
  },
  "language_info": {
   "codemirror_mode": {
    "name": "ipython",
    "version": 3
   },
   "file_extension": ".py",
   "mimetype": "text/x-python",
   "name": "python",
   "nbconvert_exporter": "python",
   "pygments_lexer": "ipython3",
   "version": "3.11.1"
  }
 },
 "nbformat": 4,
 "nbformat_minor": 5
}
