{
 "cells": [
  {
   "cell_type": "code",
   "execution_count": 10,
   "id": "b1741a03",
   "metadata": {},
   "outputs": [
    {
     "name": "stdout",
     "output_type": "stream",
     "text": [
      "jerry\n",
      "106\n",
      "101\n",
      "114\n",
      "114\n",
      "121\n"
     ]
    }
   ],
   "source": [
    "str=input(\"\")\n",
    "for i in range(0,len(str)):\n",
    "    print(ord(str[i]))\n"
   ]
  },
  {
   "cell_type": "code",
   "execution_count": 14,
   "id": "ef60db0f",
   "metadata": {},
   "outputs": [
    {
     "name": "stdout",
     "output_type": "stream",
     "text": [
      "ram\n",
      "320\n"
     ]
    }
   ],
   "source": [
    "str=input()\n",
    "sum=0\n",
    "for i in range(0,len(str)):\n",
    "    sum+=ord(str[i])\n",
    "print(sum)\n"
   ]
  },
  {
   "cell_type": "code",
   "execution_count": null,
   "id": "93dc61b6",
   "metadata": {},
   "outputs": [],
   "source": []
  }
 ],
 "metadata": {
  "kernelspec": {
   "display_name": "Python 3 (ipykernel)",
   "language": "python",
   "name": "python3"
  },
  "language_info": {
   "codemirror_mode": {
    "name": "ipython",
    "version": 3
   },
   "file_extension": ".py",
   "mimetype": "text/x-python",
   "name": "python",
   "nbconvert_exporter": "python",
   "pygments_lexer": "ipython3",
   "version": "3.11.1"
  }
 },
 "nbformat": 4,
 "nbformat_minor": 5
}
