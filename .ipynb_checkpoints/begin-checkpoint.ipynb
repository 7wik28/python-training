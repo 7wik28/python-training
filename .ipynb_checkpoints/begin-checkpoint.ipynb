{
 "cells": [
  {
   "cell_type": "markdown",
   "id": "5a3e4b83",
   "metadata": {},
   "source": [
    "x=10\n",
    "if x>0:\n",
    "      print(\"positive\")\n",
    "else:\n",
    "     print(\"negative\")"
   ]
  },
  {
   "cell_type": "code",
   "execution_count": 7,
   "id": "03dcf96c",
   "metadata": {},
   "outputs": [
    {
     "name": "stdout",
     "output_type": "stream",
     "text": [
      "positive\n"
     ]
    }
   ],
   "source": [
    "x=10\n",
    "if x>0:\n",
    "    print(\"positive\")\n",
    "else:\n",
    "    print(\"negative\")"
   ]
  },
  {
   "cell_type": "code",
   "execution_count": 9,
   "id": "fa68c769",
   "metadata": {},
   "outputs": [
    {
     "name": "stdout",
     "output_type": "stream",
     "text": [
      "present\n"
     ]
    }
   ],
   "source": [
    "#program to find txt present in an i/o sentence\n",
    "txt = \"Telangana is a state\"\n",
    "if \"is\" in txt:\n",
    "    print(\"present\")\n",
    "else:\n",
    "    print(\"not present\")\n",
    "    "
   ]
  },
  {
   "cell_type": "code",
   "execution_count": 14,
   "id": "c150224f",
   "metadata": {},
   "outputs": [
    {
     "name": "stdout",
     "output_type": "stream",
     "text": [
      "N\n",
      "D\n"
     ]
    }
   ],
   "source": [
    "#string access\n",
    "str='INDIA'\n",
    "print(str[1])\n",
    "print(str[-3])"
   ]
  },
  {
   "cell_type": "code",
   "execution_count": 12,
   "id": "b2c70fbd",
   "metadata": {},
   "outputs": [
    {
     "name": "stdout",
     "output_type": "stream",
     "text": [
      "['MI', '', 'I', '', 'IPPI']\n"
     ]
    }
   ],
   "source": [
    "#program to seperate a character from txt\n",
    "a=\"MISSISSIPPI\"\n",
    "print(a.split(\"S\"))"
   ]
  },
  {
   "cell_type": "code",
   "execution_count": 15,
   "id": "6fd1337a",
   "metadata": {},
   "outputs": [
    {
     "name": "stdout",
     "output_type": "stream",
     "text": [
      "eth\n"
     ]
    }
   ],
   "source": [
    "#[] ; slicing\n",
    "a='netherlands'\n",
    "print(a[1:4])"
   ]
  },
  {
   "cell_type": "code",
   "execution_count": 16,
   "id": "532f386e",
   "metadata": {},
   "outputs": [
    {
     "name": "stdout",
     "output_type": "stream",
     "text": [
      "\"\n",
      "netrherlands\n",
      "australia\n",
      "greece\n"
     ]
    }
   ],
   "source": [
    "#string multiple\n",
    "abc=\"\"\"\"\n",
    "netrherlands\n",
    "australia\n",
    "greece\"\"\"\n",
    "print(abc)"
   ]
  },
  {
   "cell_type": "code",
   "execution_count": 18,
   "id": "e09036a9",
   "metadata": {},
   "outputs": [
    {
     "name": "stdout",
     "output_type": "stream",
     "text": [
      "hihello\n",
      "True\n"
     ]
    }
   ],
   "source": [
    "abc1=\"hi\"\n",
    "abc2=\"hello\"\n",
    "abc3=\"hi\"\n",
    "print(abc1+abc2)\n",
    "print(abc1==abc3)"
   ]
  },
  {
   "cell_type": "markdown",
   "id": "a6a1393e",
   "metadata": {},
   "source": []
  },
  {
   "cell_type": "code",
   "execution_count": 20,
   "id": "eee6b786",
   "metadata": {
    "scrolled": false
   },
   "outputs": [
    {
     "name": "stdout",
     "output_type": "stream",
     "text": [
      "Iam sorry\n",
      "\n",
      "Iam sorry\n",
      "\n",
      "Iam sorry\n",
      "\n",
      "Iam sorry\n",
      "\n",
      "Iam sorry\n",
      "\n",
      "Iam sorry\n",
      "\n",
      "Iam sorry\n",
      "\n",
      "Iam sorry\n",
      "\n",
      "Iam sorry\n",
      "\n",
      "Iam sorry\n",
      "\n",
      "Iam sorry\n",
      "\n",
      "Iam sorry\n",
      "\n",
      "Iam sorry\n",
      "\n",
      "Iam sorry\n",
      "\n",
      "Iam sorry\n",
      "\n",
      "Iam sorry\n",
      "\n",
      "Iam sorry\n",
      "\n",
      "Iam sorry\n",
      "\n",
      "Iam sorry\n",
      "\n",
      "Iam sorry\n",
      "\n",
      "Iam sorry\n",
      "\n",
      "Iam sorry\n",
      "\n",
      "Iam sorry\n",
      "\n",
      "Iam sorry\n",
      "\n",
      "Iam sorry\n",
      "\n",
      "Iam sorry\n",
      "\n",
      "Iam sorry\n",
      "\n",
      "Iam sorry\n",
      "\n",
      "Iam sorry\n",
      "\n",
      "Iam sorry\n",
      "\n",
      "Iam sorry\n",
      "\n",
      "Iam sorry\n",
      "\n",
      "Iam sorry\n",
      "\n",
      "Iam sorry\n",
      "\n",
      "Iam sorry\n",
      "\n",
      "Iam sorry\n",
      "\n",
      "Iam sorry\n",
      "\n",
      "Iam sorry\n",
      "\n",
      "Iam sorry\n",
      "\n",
      "Iam sorry\n",
      "\n",
      "Iam sorry\n",
      "\n",
      "Iam sorry\n",
      "\n",
      "Iam sorry\n",
      "\n",
      "Iam sorry\n",
      "\n",
      "Iam sorry\n",
      "\n",
      "Iam sorry\n",
      "\n",
      "Iam sorry\n",
      "\n",
      "Iam sorry\n",
      "\n",
      "Iam sorry\n",
      "\n",
      "Iam sorry\n",
      "\n",
      "Iam sorry\n",
      "\n",
      "Iam sorry\n",
      "\n",
      "Iam sorry\n",
      "\n",
      "Iam sorry\n",
      "\n",
      "Iam sorry\n",
      "\n",
      "Iam sorry\n",
      "\n",
      "Iam sorry\n",
      "\n",
      "Iam sorry\n",
      "\n",
      "Iam sorry\n",
      "\n",
      "Iam sorry\n",
      "\n",
      "Iam sorry\n",
      "\n",
      "Iam sorry\n",
      "\n",
      "Iam sorry\n",
      "\n",
      "Iam sorry\n",
      "\n",
      "Iam sorry\n",
      "\n",
      "Iam sorry\n",
      "\n",
      "Iam sorry\n",
      "\n",
      "Iam sorry\n",
      "\n",
      "Iam sorry\n",
      "\n",
      "Iam sorry\n",
      "\n",
      "Iam sorry\n",
      "\n",
      "Iam sorry\n",
      "\n",
      "Iam sorry\n",
      "\n",
      "Iam sorry\n",
      "\n",
      "Iam sorry\n",
      "\n",
      "Iam sorry\n",
      "\n",
      "Iam sorry\n",
      "\n",
      "Iam sorry\n",
      "\n",
      "Iam sorry\n",
      "\n",
      "Iam sorry\n",
      "\n",
      "Iam sorry\n",
      "\n",
      "Iam sorry\n",
      "\n",
      "Iam sorry\n",
      "\n",
      "Iam sorry\n",
      "\n",
      "Iam sorry\n",
      "\n",
      "Iam sorry\n",
      "\n",
      "Iam sorry\n",
      "\n",
      "Iam sorry\n",
      "\n",
      "Iam sorry\n",
      "\n",
      "Iam sorry\n",
      "\n",
      "Iam sorry\n",
      "\n",
      "Iam sorry\n",
      "\n",
      "Iam sorry\n",
      "\n",
      "Iam sorry\n",
      "\n",
      "Iam sorry\n",
      "\n",
      "Iam sorry\n",
      "\n",
      "Iam sorry\n",
      "\n",
      "Iam sorry\n",
      "\n",
      "Iam sorry\n",
      "\n",
      "Iam sorry\n",
      "\n"
     ]
    }
   ],
   "source": [
    "for i in range(100):\n",
    "    print(\"Iam sorry\\n\")"
   ]
  },
  {
   "cell_type": "code",
   "execution_count": 21,
   "id": "a32dc31d",
   "metadata": {},
   "outputs": [
    {
     "name": "stdout",
     "output_type": "stream",
     "text": [
      "{1, 2, 3}\n",
      "{2.0, (1, 2, 30, 'abc')}\n"
     ]
    }
   ],
   "source": [
    "#sets\n",
    "set1={1,2,3}\n",
    "set2={2.0,(1,2,30,\"abc\")}\n",
    "print(set1)\n",
    "print(set2)"
   ]
  },
  {
   "cell_type": "code",
   "execution_count": 29,
   "id": "2123718e",
   "metadata": {},
   "outputs": [
    {
     "name": "stdout",
     "output_type": "stream",
     "text": [
      "{1, 3}\n",
      "{1, 2, 3}\n",
      "{1, 2, 3, 4}\n",
      "{1, 2, 3, 4, 5, 6, 7}\n"
     ]
    }
   ],
   "source": [
    "#modifying a set\n",
    "a={1,3}\n",
    "print(a)\n",
    "a.add(2)\n",
    "print(a)\n",
    "a.update([2,3,4])\n",
    "print(a)\n",
    "a.update([4,5],{1,6,7})\n",
    "print(a)"
   ]
  },
  {
   "cell_type": "code",
   "execution_count": 33,
   "id": "5eeeb611",
   "metadata": {},
   "outputs": [
    {
     "name": "stdout",
     "output_type": "stream",
     "text": [
      "{'b', 'd', 'c', 'a', 'e', 'f'}\n",
      "b\n",
      "{'d', 'c', 'a', 'e', 'f'}\n",
      "d\n",
      "{'c', 'a', 'e', 'f'}\n",
      "c\n",
      "{'a', 'e', 'f'}\n"
     ]
    }
   ],
   "source": [
    "a=set(\"abcdef\")\n",
    "print(a)\n",
    "print(a.pop())\n",
    "print(a)\n",
    "print(a.pop())\n",
    "print(a)\n",
    "print(a.pop())\n",
    "print(a)\n",
    "\n"
   ]
  },
  {
   "cell_type": "code",
   "execution_count": null,
   "id": "a727b88d",
   "metadata": {},
   "outputs": [],
   "source": [
    "\n",
    "      total_candies = 10\n",
    "no_of_candies = int(input())\n",
    "if no_of_candies in range(1, 6):\n",
    "\tprint('No. of Candies Sold:',no_of_candies)\n",
    "\tprint('No. of Candies Left:',total_candies-no_of_candies)\n",
    "else:\n",
    "\tprint(\"Invalid Input\")\n",
    "\tprint('No. of Candies Left:',total_candies)\n"
   ]
  },
  {
   "cell_type": "code",
   "execution_count": null,
   "id": "b8ede2e2",
   "metadata": {},
   "outputs": [],
   "source": [
    "#looping statements\n",
    "#while loop\n",
    "i=0\n",
    "while(i<=10):\n",
    "    print(i)\n",
    "    i+=1"
   ]
  },
  {
   "cell_type": "code",
   "execution_count": null,
   "id": "799c1e43",
   "metadata": {},
   "outputs": [],
   "source": [
    "i=0\n",
    "while(i<=10):\n",
    "    print(i,end=\"\\t\")\n",
    "    i+=1"
   ]
  },
  {
   "cell_type": "code",
   "execution_count": 55,
   "id": "acb4c6b7",
   "metadata": {},
   "outputs": [
    {
     "name": "stdout",
     "output_type": "stream",
     "text": [
      "3\n",
      "9\n",
      "42\n"
     ]
    }
   ],
   "source": [
    "#program to add the elements between a range of(m,n): m=3,n=9\n",
    "m=int(input())\n",
    "n=int(input())\n",
    "sum=0\n",
    "while(m<=n):\n",
    "    sum=sum+m\n",
    "    m=m+1\n",
    "print(sum)"
   ]
  },
  {
   "cell_type": "code",
   "execution_count": 63,
   "id": "cd393ca6",
   "metadata": {},
   "outputs": [
    {
     "name": "stdout",
     "output_type": "stream",
     "text": [
      "enter 3 digit number1234\n",
      "10\n"
     ]
    }
   ],
   "source": [
    "#program to find sum of digits in a number\n",
    "m=int(input(\"enter 3 digit number\"))\n",
    "sum=0\n",
    "rem=0\n",
    "while(m>0):\n",
    "    rem=m%10\n",
    "    sum=sum+rem\n",
    "    m=m//10\n",
    "print(sum) \n",
    " "
   ]
  },
  {
   "cell_type": "code",
   "execution_count": 102,
   "id": "f06fc63c",
   "metadata": {},
   "outputs": [
    {
     "name": "stdout",
     "output_type": "stream",
     "text": [
      "enter the value of n=10\n",
      "avg= 5.0\n",
      "sum= 45\n"
     ]
    }
   ],
   "source": [
    "#program to caluculate first n numbers and their average\n",
    "n=int(input(\"enter the value of n=\"))\n",
    "avg=0.0\n",
    "sum=0\n",
    "for i in range(10):\n",
    "    sum=sum+i\n",
    "avg=sum/i\n",
    "print(\"avg=\",avg)\n",
    "print(\"sum=\",sum)"
   ]
  },
  {
   "cell_type": "code",
   "execution_count": null,
   "id": "3a1af603",
   "metadata": {},
   "outputs": [],
   "source": []
  },
  {
   "cell_type": "code",
   "execution_count": 83,
   "id": "bcc716cc",
   "metadata": {},
   "outputs": [
    {
     "name": "stdout",
     "output_type": "stream",
     "text": [
      "enter  digit number21\n",
      "Nivens number\n"
     ]
    }
   ],
   "source": [
    "#nivens number\n",
    "m=int(input(\"enter  digit number\"))\n",
    "num=m\n",
    "sum=0\n",
    "rem=0\n",
    "while(m>0):\n",
    "    rem=m%10\n",
    "    sum=sum+rem\n",
    "    m=m//10\n",
    "\n",
    "if(num%sum==0):\n",
    "    print(\"Nivens number\")\n",
    "else:\n",
    "    print(\"not a nivens number\")\n",
    "\n",
    " "
   ]
  },
  {
   "cell_type": "code",
   "execution_count": 87,
   "id": "5467b87d",
   "metadata": {},
   "outputs": [
    {
     "name": "stdout",
     "output_type": "stream",
     "text": [
      "enter a digit number123\n",
      "3\t2\t1\t"
     ]
    }
   ],
   "source": [
    "#reverse of number\n",
    "m=int(input(\"enter a digit number\"))\n",
    "sum=0\n",
    "\n",
    "while(m>0):\n",
    "    sum=m%10\n",
    "    print(sum,end=\"\\t\")\n",
    "    m=m//10\n",
    "\n",
    " "
   ]
  },
  {
   "cell_type": "code",
   "execution_count": 89,
   "id": "c3290517",
   "metadata": {},
   "outputs": [
    {
     "name": "stdout",
     "output_type": "stream",
     "text": [
      "enter a number=123\n",
      "3\t2\t1\n"
     ]
    }
   ],
   "source": [
    "n=(input(\"enter a number=\"))\n",
    "num=\"\\t\".join(n[::-1])\n",
    "print(num)"
   ]
  },
  {
   "cell_type": "code",
   "execution_count": 117,
   "id": "e0e290ad",
   "metadata": {
    "scrolled": true
   },
   "outputs": [
    {
     "name": "stdout",
     "output_type": "stream",
     "text": [
      "enter a number=7\n",
      "7 * 1 = 7\n",
      "7 * 2 = 14\n",
      "7 * 3 = 21\n",
      "7 * 4 = 28\n",
      "7 * 5 = 35\n",
      "7 * 6 = 42\n",
      "7 * 7 = 49\n",
      "7 * 8 = 56\n",
      "7 * 9 = 63\n",
      "7 * 10 = 70\n"
     ]
    }
   ],
   "source": [
    "#program to display a mul table of a given user input\n",
    "n=int(input(\"enter a number=\"))\n",
    "for i in range(1,11):\n",
    "    print(n,\"*\",i,\"=\",n*i)\n"
   ]
  },
  {
   "cell_type": "code",
   "execution_count": null,
   "id": "70f55aa2",
   "metadata": {},
   "outputs": [],
   "source": [
    "else:\n",
    "    if num>0:\n",
    "        \n",
    "    "
   ]
  },
  {
   "cell_type": "code",
   "execution_count": 107,
   "id": "2f26484a",
   "metadata": {
    "scrolled": true
   },
   "outputs": [
    {
     "name": "stdout",
     "output_type": "stream",
     "text": [
      "1900 1904 1908 1912 1916 1920 1924 1928 1932 1936 1940 1944 1948 1952 1956 1960 1964 1968 1972 1976 1980 1984 1988 1992 1996 2000 2004 2008 2012 2016 2020 2024 2028 2032 2036 2040 2044 2048 2052 2056 2060 2064 2068 2072 2076 2080 2084 2088 2092 2096 2100 "
     ]
    }
   ],
   "source": [
    "#leap year\n",
    "for i in range(1900,2101):\n",
    "    if i%4==0:\n",
    "        print(i,end=\" \")\n"
   ]
  },
  {
   "cell_type": "code",
   "execution_count": 108,
   "id": "51e0b4bd",
   "metadata": {},
   "outputs": [
    {
     "name": "stdout",
     "output_type": "stream",
     "text": [
      "1900\n",
      "1904\n",
      "1908\n",
      "1912\n",
      "1916\n",
      "1920\n",
      "1924\n",
      "1928\n",
      "1932\n",
      "1936\n",
      "1940\n",
      "1944\n",
      "1948\n",
      "1952\n",
      "1956\n",
      "1960\n",
      "1964\n",
      "1968\n",
      "1972\n",
      "1976\n",
      "1980\n",
      "1984\n",
      "1988\n",
      "1992\n",
      "1996\n",
      "2000\n",
      "2004\n",
      "2008\n",
      "2012\n",
      "2016\n",
      "2020\n",
      "2024\n",
      "2028\n",
      "2032\n",
      "2036\n",
      "2040\n",
      "2044\n",
      "2048\n",
      "2052\n",
      "2056\n",
      "2060\n",
      "2064\n",
      "2068\n",
      "2072\n",
      "2076\n",
      "2080\n",
      "2084\n",
      "2088\n",
      "2092\n",
      "2096\n",
      "2100\n"
     ]
    }
   ],
   "source": [
    "n=2101\n",
    "for i in range(1900,n,4):\n",
    "    print(i)"
   ]
  },
  {
   "cell_type": "code",
   "execution_count": 112,
   "id": "8bee65c0",
   "metadata": {},
   "outputs": [
    {
     "name": "stdout",
     "output_type": "stream",
     "text": [
      "enter a term=8\n",
      "2.7178571428571425\n"
     ]
    }
   ],
   "source": [
    "#find the sum of 1+1/2....1/n\n",
    "n=int(input(\"enter a term=\"))\n",
    "sum=0.0\n",
    "for i in range(1,n+1):\n",
    "    a=1.0/i\n",
    "    sum=sum+a\n",
    "print(sum)  \n"
   ]
  },
  {
   "cell_type": "code",
   "execution_count": 115,
   "id": "8f4f76ca",
   "metadata": {},
   "outputs": [
    {
     "name": "stdout",
     "output_type": "stream",
     "text": [
      "enter a term=7\n",
      "1.511797052154195\n"
     ]
    }
   ],
   "source": [
    "#find the sum of 1+1/2**2+....+1/n**n\n",
    "n=int(input(\"enter a term=\"))\n",
    "sum=0.0\n",
    "for i in range(1,n+1):\n",
    "    a=(1.0/i**2)\n",
    "    sum=sum+a\n",
    "print(sum)  \n"
   ]
  },
  {
   "cell_type": "code",
   "execution_count": 118,
   "id": "4dde15a2",
   "metadata": {},
   "outputs": [
    {
     "name": "stdout",
     "output_type": "stream",
     "text": [
      "$$$$hi$$$$\n"
     ]
    }
   ],
   "source": [
    "# $$$$hi$$$$\n",
    "str=\"hi\"\n",
    "print(str.center(10,\"$\"))"
   ]
  },
  {
   "cell_type": "code",
   "execution_count": 119,
   "id": "613ae74b",
   "metadata": {},
   "outputs": [
    {
     "name": "stdout",
     "output_type": "stream",
     "text": [
      "&&hello&&&\n"
     ]
    }
   ],
   "source": [
    "#same counting\n",
    "str=\"hello\"\n",
    "print(str.center(10,\"&\"))"
   ]
  },
  {
   "cell_type": "code",
   "execution_count": 126,
   "id": "eeaacbee",
   "metadata": {},
   "outputs": [
    {
     "name": "stdout",
     "output_type": "stream",
     "text": [
      "4\n"
     ]
    }
   ],
   "source": [
    "str=\"he\"\n",
    "substr=\"hehellhehell\"\n",
    "print(substr.count(str,0,len(substr)))"
   ]
  },
  {
   "cell_type": "code",
   "execution_count": 127,
   "id": "2ec4c92c",
   "metadata": {
    "scrolled": true
   },
   "outputs": [
    {
     "name": "stdout",
     "output_type": "stream",
     "text": [
      "6\n"
     ]
    }
   ],
   "source": [
    "#finding index position of the word\n",
    "str=\"he is my cousin\"\n",
    "print(str.find(\"my\",0,len(substr)))"
   ]
  },
  {
   "cell_type": "markdown",
   "id": "8cc9ea4d",
   "metadata": {},
   "source": []
  },
  {
   "cell_type": "code",
   "execution_count": 130,
   "id": "c6968bda",
   "metadata": {},
   "outputs": [
    {
     "name": "stdout",
     "output_type": "stream",
     "text": [
      "hi^^^^^^^^^^^^^^^^^^\n"
     ]
    }
   ],
   "source": [
    "# syntax for left justification\n",
    "# ljust(width[,fillchar])\n",
    "str=\"hi\"\n",
    "print(str.ljust(20,'^'))"
   ]
  },
  {
   "cell_type": "code",
   "execution_count": 131,
   "id": "99c563ae",
   "metadata": {},
   "outputs": [
    {
     "name": "stdout",
     "output_type": "stream",
     "text": [
      "^^^^^^^^^^^^^^^^^^hi\n"
     ]
    }
   ],
   "source": [
    "str=\"hi\"\n",
    "print(str.rjust(20,'^'))"
   ]
  },
  {
   "cell_type": "code",
   "execution_count": 133,
   "id": "6c972951",
   "metadata": {},
   "outputs": [
    {
     "name": "stdout",
     "output_type": "stream",
     "text": [
      "00000000000006\n"
     ]
    }
   ],
   "source": [
    "#syntax for zfill(width)\n",
    "str=\"6\"\n",
    "print(str.zfill(14))"
   ]
  },
  {
   "cell_type": "code",
   "execution_count": 136,
   "id": "d7d1b858",
   "metadata": {},
   "outputs": [
    {
     "name": "stdout",
     "output_type": "stream",
     "text": [
      "121\n"
     ]
    }
   ],
   "source": [
    "#asky values\n",
    "print(ord(\"y\"))"
   ]
  },
  {
   "cell_type": "code",
   "execution_count": 137,
   "id": "eedbeab1",
   "metadata": {},
   "outputs": [
    {
     "name": "stdout",
     "output_type": "stream",
     "text": [
      "y\n"
     ]
    }
   ],
   "source": [
    "str=\"python\"\n",
    "print(max(str))"
   ]
  },
  {
   "cell_type": "code",
   "execution_count": 140,
   "id": "80287b0c",
   "metadata": {},
   "outputs": [
    {
     "name": "stdout",
     "output_type": "stream",
     "text": [
      "Ram Where Is Sita\n"
     ]
    }
   ],
   "source": [
    "l=\"ram where is sita\"\n",
    "print(l.title())"
   ]
  },
  {
   "cell_type": "code",
   "execution_count": 142,
   "id": "fce84143",
   "metadata": {},
   "outputs": [
    {
     "name": "stdout",
     "output_type": "stream",
     "text": [
      "Ram where is sita\n"
     ]
    }
   ],
   "source": [
    "l=\"ram where is sita\"\n",
    "print(l.capitalize())"
   ]
  },
  {
   "cell_type": "code",
   "execution_count": 143,
   "id": "b1ce3fd4",
   "metadata": {},
   "outputs": [
    {
     "name": "stdout",
     "output_type": "stream",
     "text": [
      "SITA IS IN MY HEART\n"
     ]
    }
   ],
   "source": [
    "l=\"sita is in my heart\"\n",
    "print(l.swapcase())"
   ]
  },
  {
   "cell_type": "code",
   "execution_count": 145,
   "id": "150f1c7b",
   "metadata": {},
   "outputs": [
    {
     "name": "stdout",
     "output_type": "stream",
     "text": [
      "[(0, 'T'), (1, 'h'), (2, 'e'), (3, ' '), (4, 'P'), (5, 'o'), (6, 'r'), (7, 'm'), (8, 'e'), (9, 't'), (10, 'h'), (11, 'e'), (12, 'u'), (13, 's'), (14, ' '), (15, 'H'), (16, 'a'), (17, 's'), (18, ' '), (19, 'A'), (20, ' '), (21, 'S'), (22, 'h'), (23, 'i'), (24, 'p')]\n"
     ]
    }
   ],
   "source": [
    "#assinging index values\n",
    "rs=\"The Pormetheus Has A Ship\"\n",
    "print(list(enumerate(rs)))"
   ]
  },
  {
   "cell_type": "code",
   "execution_count": null,
   "id": "1d79087a",
   "metadata": {},
   "outputs": [],
   "source": [
    "str=\"India has won\"\n",
    "for i in str:\n",
    "    print(i,end=\" \")"
   ]
  },
  {
   "cell_type": "code",
   "execution_count": 153,
   "id": "f5f93dfd",
   "metadata": {},
   "outputs": [
    {
     "name": "stdout",
     "output_type": "stream",
     "text": [
      "j o e j b "
     ]
    }
   ],
   "source": [
    "# caseser cipher\n",
    "str=\"india\"\n",
    "index=0\n",
    "while index <len(str):\n",
    "    letter=str[index]\n",
    "    print(chr(ord(letter)+1),end=' ')\n",
    "    index=index+1"
   ]
  },
  {
   "cell_type": "code",
   "execution_count": 154,
   "id": "7a9fe13e",
   "metadata": {},
   "outputs": [],
   "source": [
    "#Abecedarian series\n"
   ]
  },
  {
   "cell_type": "code",
   "execution_count": 173,
   "id": "9b80afe3",
   "metadata": {},
   "outputs": [
    {
     "name": "stdout",
     "output_type": "stream",
     "text": [
      "enter a number=10\n",
      "[0, 0, 7, 6, 14, 12, 21, 18, 28, 24, 35, 30, 42, 36, 49, 42, 56, 48, 63, 54]\n",
      "Enter the value=13\n",
      "36\n"
     ]
    }
   ],
   "source": [
    "#n series=>0,0,7,6,14,12,21,18...n terms (at odd position print even numbers and viceversa)for i in range(1,n,7):\n",
    "n=int(input(\"enter a number=\"))\n",
    "m=0\n",
    "s=0\n",
    "li=[0,0]\n",
    "for i in range(1,n):\n",
    "    m=m+7\n",
    "    li.append(m)\n",
    "    s=s+6\n",
    "    li.append(s)\n",
    "print(li)\n",
    "pos=int(input(\"Enter the value=\"))\n",
    "print(li[pos])"
   ]
  },
  {
   "cell_type": "code",
   "execution_count": null,
   "id": "ac745110",
   "metadata": {},
   "outputs": [
    {
     "name": "stdout",
     "output_type": "stream",
     "text": [
      "4\n",
      "[1, 1, 2, 3, 4, 9, 8, 27, 16, 81]\n"
     ]
    }
   ],
   "source": [
    "n=int(input())\n",
    "list=[]\n",
    "for i in range(0,n+1):\n",
    "    a=2**i\n",
    "    list.append(a)\n",
    "    b=3**i\n",
    "    list.append(b)\n",
    "print(list)\n",
    "num=int(input(\"enter position\"))\n",
    "print(list[num])"
   ]
  },
  {
   "cell_type": "code",
   "execution_count": null,
   "id": "5e03b28f",
   "metadata": {},
   "outputs": [],
   "source": []
  }
 ],
 "metadata": {
  "kernelspec": {
   "display_name": "Python 3 (ipykernel)",
   "language": "python",
   "name": "python3"
  },
  "language_info": {
   "codemirror_mode": {
    "name": "ipython",
    "version": 3
   },
   "file_extension": ".py",
   "mimetype": "text/x-python",
   "name": "python",
   "nbconvert_exporter": "python",
   "pygments_lexer": "ipython3",
   "version": "3.11.1"
  }
 },
 "nbformat": 4,
 "nbformat_minor": 5
}
