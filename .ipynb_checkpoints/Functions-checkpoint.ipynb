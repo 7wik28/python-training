{
 "cells": [
  {
   "cell_type": "code",
   "execution_count": null,
   "id": "ad5ea1e9",
   "metadata": {},
   "outputs": [],
   "source": [
    "#functions\n",
    "def username(arg1,arg2,...n):\n",
    "    --------\n",
    "    --------\n",
    "    return ''''''\n",
    "def diff(a,b):\n",
    "    return a-b\n",
    "a=20\n",
    "b=10\n",
    "operation = diff\n",
    "print(operation(x,y))"
   ]
  },
  {
   "cell_type": "code",
   "execution_count": 5,
   "id": "194d31fa",
   "metadata": {},
   "outputs": [
    {
     "name": "stdout",
     "output_type": "stream",
     "text": [
      "hi students\n",
      "hi students\n",
      "hi students\n",
      "hi students\n",
      "hi students\n"
     ]
    }
   ],
   "source": [
    "#program to display a string n number of times\n",
    "def fun():\n",
    "    for i in range(5):\n",
    "        print(\"hi students\")\n",
    "fun()        "
   ]
  },
  {
   "cell_type": "code",
   "execution_count": 13,
   "id": "477661d3",
   "metadata": {},
   "outputs": [
    {
     "name": "stdout",
     "output_type": "stream",
     "text": [
      "10\n"
     ]
    }
   ],
   "source": [
    "def diff(a,b):\n",
    "\n",
    "    result=a-b\n",
    "    print(result)\n",
    "a=20\n",
    "b=10\n",
    "diff(a,b)\n"
   ]
  },
  {
   "cell_type": "code",
   "execution_count": 16,
   "id": "344b6de2",
   "metadata": {},
   "outputs": [
    {
     "name": "stdout",
     "output_type": "stream",
     "text": [
      "2\n",
      "15\n"
     ]
    },
    {
     "ename": "NameError",
     "evalue": "name 'i' is not defined",
     "output_type": "error",
     "traceback": [
      "\u001b[1;31m---------------------------------------------------------------------------\u001b[0m",
      "\u001b[1;31mNameError\u001b[0m                                 Traceback (most recent call last)",
      "Cell \u001b[1;32mIn[16], line 4\u001b[0m\n\u001b[0;32m      2\u001b[0m b\u001b[38;5;241m=\u001b[39m\u001b[38;5;28mint\u001b[39m(\u001b[38;5;28minput\u001b[39m())\n\u001b[0;32m      3\u001b[0m \u001b[38;5;28;01mwhile\u001b[39;00m(a\u001b[38;5;241m<\u001b[39mb):\n\u001b[1;32m----> 4\u001b[0m     \u001b[38;5;28;01mif\u001b[39;00m(\u001b[43mi\u001b[49m\u001b[38;5;241m%\u001b[39m\u001b[38;5;241m2\u001b[39m\u001b[38;5;241m!=\u001b[39m\u001b[38;5;241m0\u001b[39m):\n\u001b[0;32m      5\u001b[0m         \u001b[38;5;28mprint\u001b[39m(a)\n\u001b[0;32m      6\u001b[0m         a\u001b[38;5;241m=\u001b[39ma\u001b[38;5;241m+\u001b[39m\u001b[38;5;241m1\u001b[39m\n",
      "\u001b[1;31mNameError\u001b[0m: name 'i' is not defined"
     ]
    }
   ],
   "source": [
    "#print prime numbers between 2 and 15 with using minimum of 1 for loop and 1 while loop\n",
    "a=int(input())\n",
    "b=int(input())"
   ]
  },
  {
   "cell_type": "code",
   "execution_count": 17,
   "id": "ef27d8a0",
   "metadata": {},
   "outputs": [
    {
     "name": "stdout",
     "output_type": "stream",
     "text": [
      "Enter a number:2\n",
      "Enter a number:15\n",
      "2\n",
      "3\n",
      "5\n",
      "7\n",
      "11\n",
      "13\n"
     ]
    }
   ],
   "source": [
    "m=int(input(\"Enter a number:\"))\n",
    "n=int(input(\"Enter a number:\"))\n",
    "count=0\n",
    "if(abs(m-n)>0):\n",
    "  while(m<=n):\n",
    "    for i in range(1,m+1):\n",
    "      if(m%i==0):\n",
    "        count=count+1\n",
    "    if(count==2):\n",
    "      print(m)\n",
    "    m=m+1\n",
    "    count=0"
   ]
  },
  {
   "cell_type": "code",
   "execution_count": 18,
   "id": "99fe6288",
   "metadata": {},
   "outputs": [
    {
     "name": "stdout",
     "output_type": "stream",
     "text": [
      "Enter the size=5\n",
      "    *    \n",
      "    *    \n",
      "    *    \n",
      "    *    \n",
      "*********\n",
      "    *    \n",
      "    *    \n",
      "    *    \n",
      "    *    \n"
     ]
    }
   ],
   "source": [
    "size=int(input(\"Enter the size=\"))\n",
    "for i in range(1,2*size):\n",
    "    for j in range(1,2*size):\n",
    "        if i==size or j==size:\n",
    "            print(\"*\",end=\"\")\n",
    "        else:\n",
    "            print(\" \",end=\"\")\n",
    "    print()"
   ]
  },
  {
   "cell_type": "code",
   "execution_count": 19,
   "id": "3f3e9644",
   "metadata": {},
   "outputs": [
    {
     "name": "stdout",
     "output_type": "stream",
     "text": [
      "enter the size=5\n",
      "*         \n",
      " *       *\n",
      "  *     * \n",
      "   *   *  \n",
      "    * *   \n",
      "     *    \n",
      "    * *   \n",
      "   *   *  \n",
      "  *     * \n",
      " *       *\n"
     ]
    }
   ],
   "source": [
    "n=int(input(\"enter the size=\"))\n",
    "val=n*2-1\n",
    "for i in range(0,val+1):\n",
    "    for j in range(0,val+1):\n",
    "        if i==j or j==val-i+1:\n",
    "            print(\"*\",end=\"\")\n",
    "        else:\n",
    "            print(\" \",end=\"\")\n",
    "    print()"
   ]
  },
  {
   "cell_type": "code",
   "execution_count": 20,
   "id": "bf11d489",
   "metadata": {},
   "outputs": [
    {
     "name": "stdout",
     "output_type": "stream",
     "text": [
      "enter the size=5\n",
      "* * * * * \n",
      " * * * * \n",
      "  * * * \n",
      "   * * \n",
      "    * \n",
      "    * \n",
      "   * * \n",
      "  * * * \n",
      " * * * * \n",
      "* * * * * \n"
     ]
    }
   ],
   "source": [
    "n=int(input(\"enter the size=\"))\n",
    "for i in range(0,n):\n",
    "    for j in range(0,i):\n",
    "        print(end=\" \")\n",
    "    for k in range(i,size):\n",
    "        print(\"*\",end=\" \")\n",
    "    print()\n",
    "for i in range(n-1,-1,-1):\n",
    "    for j in range(0,i):\n",
    "        print(end=\" \")\n",
    "    for k in range(i,size):\n",
    "        print(\"*\",end=\" \")\n",
    "    print()"
   ]
  },
  {
   "cell_type": "code",
   "execution_count": null,
   "id": "20bad278",
   "metadata": {},
   "outputs": [],
   "source": []
  }
 ],
 "metadata": {
  "kernelspec": {
   "display_name": "Python 3 (ipykernel)",
   "language": "python",
   "name": "python3"
  },
  "language_info": {
   "codemirror_mode": {
    "name": "ipython",
    "version": 3
   },
   "file_extension": ".py",
   "mimetype": "text/x-python",
   "name": "python",
   "nbconvert_exporter": "python",
   "pygments_lexer": "ipython3",
   "version": "3.11.1"
  }
 },
 "nbformat": 4,
 "nbformat_minor": 5
}
