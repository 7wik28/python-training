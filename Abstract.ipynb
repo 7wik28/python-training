{
 "cells": [
  {
   "cell_type": "code",
   "execution_count": 4,
   "id": "051b63f9",
   "metadata": {},
   "outputs": [
    {
     "name": "stdout",
     "output_type": "stream",
     "text": [
      "sweet vitamin A Golden Yellow\n",
      "sour vitamin C orange\n"
     ]
    }
   ],
   "source": [
    "#abstract class\n",
    "class fruit:\n",
    "    def taste(self):\n",
    "        raise NotImplementedError()\n",
    "    def rich(self):\n",
    "        raise NotImplementedError()\n",
    "    def color(self):\n",
    "        raise NotImplementedError()\n",
    "class mango(fruit):\n",
    "    def taste(self):\n",
    "        return \"sweet\"\n",
    "    def rich(self):\n",
    "        return \"vitamin A\"\n",
    "    def color(Self):\n",
    "        return \"Golden Yellow\"        \n",
    "class orange(fruit):\n",
    "    def taste(self):\n",
    "        return \"sour\"\n",
    "    def rich(self):\n",
    "        return \"vitamin C\"\n",
    "    def color(Self):\n",
    "        return \"orange\"\n",
    "Alphanso=mango()\n",
    "print(Alphanso.taste(),Alphanso.rich(),Alphanso.color())\n",
    "o=orange()\n",
    "print(o.taste(),o.rich(),o.color())\n",
    "\n",
    "        \n",
    "        "
   ]
  },
  {
   "cell_type": "code",
   "execution_count": null,
   "id": "51981236",
   "metadata": {},
   "outputs": [],
   "source": [
    "#program to interview polymorphism on the complex number\n",
    "class complex:\n",
    "    def __init()__(self):\n",
    "        self.real=0\n",
    "        self.img=0\n",
    "    def setValue(self,real,img):\n",
    "        self.real=real\n",
    "        self.img=img\n",
    "    def     \n",
    "    "
   ]
  }
 ],
 "metadata": {
  "kernelspec": {
   "display_name": "Python 3 (ipykernel)",
   "language": "python",
   "name": "python3"
  },
  "language_info": {
   "codemirror_mode": {
    "name": "ipython",
    "version": 3
   },
   "file_extension": ".py",
   "mimetype": "text/x-python",
   "name": "python",
   "nbconvert_exporter": "python",
   "pygments_lexer": "ipython3",
   "version": "3.11.1"
  }
 },
 "nbformat": 4,
 "nbformat_minor": 5
}
