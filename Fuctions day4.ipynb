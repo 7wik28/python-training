{
 "cells": [
  {
   "cell_type": "code",
   "execution_count": 1,
   "id": "68cdde6f",
   "metadata": {},
   "outputs": [
    {
     "name": "stdout",
     "output_type": "stream",
     "text": [
      "30\n"
     ]
    }
   ],
   "source": [
    "def add(x,y):\n",
    "    return x+y\n",
    "a=10\n",
    "b=20\n",
    "operation=add\n",
    "print(operation(a,b))"
   ]
  },
  {
   "cell_type": "code",
   "execution_count": 3,
   "id": "54014609",
   "metadata": {},
   "outputs": [
    {
     "name": "stdout",
     "output_type": "stream",
     "text": [
      "in the function var1 is - hi\n",
      "outside function is var2- goodmorning\n",
      "var1 is - hi\n"
     ]
    }
   ],
   "source": [
    "#global variable accessing\n",
    "var1=\"hi\"\n",
    "def abc():\n",
    "    global var2\n",
    "    var2=\"goodmorning\"\n",
    "    print(\"in the function var1 is -\",var1)\n",
    "abc()\n",
    "print(\"outside function is var2-\",var2)\n",
    "print(\"var1 is -\",var1)\n"
   ]
  },
  {
   "cell_type": "code",
   "execution_count": 5,
   "id": "3883da51",
   "metadata": {},
   "outputs": [
    {
     "name": "stdout",
     "output_type": "stream",
     "text": [
      "in the function var1 is - good morning\n",
      "outside the function is var1- good morning\n",
      "outside the function after modify - very good\n"
     ]
    }
   ],
   "source": [
    "#modifying global variable\n",
    "var1=\"hi\"\n",
    "def abc():\n",
    "    global var1\n",
    "    var1=\"good morning\"\n",
    "    print(\"in the function var1 is -\",var1)\n",
    "abc()\n",
    "print(\"outside the function is var1-\",var1)\n",
    "var1=\"very good\"\n",
    "print(\"outside the function after modify -\",var1)"
   ]
  },
  {
   "cell_type": "code",
   "execution_count": 31,
   "id": "d217cbec",
   "metadata": {},
   "outputs": [
    {
     "name": "stdout",
     "output_type": "stream",
     "text": [
      "inner variable 22\n",
      "outside variable 11\n"
     ]
    }
   ],
   "source": [
    "#program  demo access of var in inner & outer function\n",
    "def outer_fun():\n",
    "    var=11\n",
    "    def inner_fun():\n",
    "        var=22\n",
    "        print(\"inner variable\",var)\n",
    "    inner_fun()\n",
    "    print(\"outside variable\",var)\n",
    "outer_fun()    \n",
    "    \n",
    "        "
   ]
  },
  {
   "cell_type": "code",
   "execution_count": 32,
   "id": "62503c01",
   "metadata": {},
   "outputs": [
    {
     "name": "stdout",
     "output_type": "stream",
     "text": [
      "cube of 10 = 1000\n"
     ]
    }
   ],
   "source": [
    "#writing a function and return its cubation format\n",
    "def cube(x):\n",
    "    return(x*x*x)\n",
    "num=10\n",
    "result=cube(num) #cube(10) #cube(1000)\n",
    "print(\"cube of\",num,\"=\",result)"
   ]
  },
  {
   "cell_type": "code",
   "execution_count": 33,
   "id": "e2450e31",
   "metadata": {},
   "outputs": [
    {
     "name": "stdout",
     "output_type": "stream",
     "text": [
      "orange 10\n"
     ]
    }
   ],
   "source": [
    "#writing a fuction to understand a mismatch parameters\n",
    "def fun(i):\n",
    "    print(\"orange\",i)\n",
    "j=10\n",
    "fun(j)\n",
    "    "
   ]
  },
  {
   "cell_type": "code",
   "execution_count": 34,
   "id": "6d16c1d2",
   "metadata": {},
   "outputs": [
    {
     "name": "stdout",
     "output_type": "stream",
     "text": [
      "orange 35\n"
     ]
    }
   ],
   "source": [
    "def fun(i):\n",
    "    print(\"orange\",i)\n",
    "j=10\n",
    "fun(j+5*5)"
   ]
  },
  {
   "cell_type": "code",
   "execution_count": 45,
   "id": "566b91c0",
   "metadata": {},
   "outputs": [],
   "source": [
    "#program to demo key arguments\n",
    "def dispaly(str,int_x,float_y):\n",
    "    print(\"the string is \",str)\n",
    "    print(\"the integer is \",int_x)\n",
    "    print(\"the float is \",float_y)\n",
    "display(float_y = 5678.9998,str=\"hi\",int_x=1234)    "
   ]
  },
  {
   "cell_type": "code",
   "execution_count": 48,
   "id": "39c88553",
   "metadata": {},
   "outputs": [
    {
     "ename": "TypeError",
     "evalue": "display() got an unexpected keyword argument 'float_y'",
     "output_type": "error",
     "traceback": [
      "\u001b[1;31m---------------------------------------------------------------------------\u001b[0m",
      "\u001b[1;31mTypeError\u001b[0m                                 Traceback (most recent call last)",
      "Cell \u001b[1;32mIn[48], line 6\u001b[0m\n\u001b[0;32m      4\u001b[0m     \u001b[38;5;28mprint\u001b[39m(\u001b[38;5;124m\"\u001b[39m\u001b[38;5;124mthe integer is \u001b[39m\u001b[38;5;124m\"\u001b[39m,int_x)\n\u001b[0;32m      5\u001b[0m     \u001b[38;5;28mprint\u001b[39m(\u001b[38;5;124m\"\u001b[39m\u001b[38;5;124mthe float is \u001b[39m\u001b[38;5;124m\"\u001b[39m,float_y)\n\u001b[1;32m----> 6\u001b[0m \u001b[43mdisplay\u001b[49m\u001b[43m(\u001b[49m\u001b[43mfloat_y\u001b[49m\u001b[43m \u001b[49m\u001b[38;5;241;43m=\u001b[39;49m\u001b[43m \u001b[49m\u001b[38;5;241;43m5678.9998\u001b[39;49m\u001b[43m,\u001b[49m\u001b[38;5;28;43mstr\u001b[39;49m\u001b[38;5;241;43m=\u001b[39;49m\u001b[38;5;124;43m\"\u001b[39;49m\u001b[38;5;124;43mhi\u001b[39;49m\u001b[38;5;124;43m\"\u001b[39;49m\u001b[43m,\u001b[49m\u001b[43mint_x\u001b[49m\u001b[38;5;241;43m=\u001b[39;49m\u001b[38;5;241;43m1234\u001b[39;49m\u001b[43m)\u001b[49m  \n",
      "\u001b[1;31mTypeError\u001b[0m: display() got an unexpected keyword argument 'float_y'"
     ]
    }
   ],
   "source": [
    "#program to demo key arguments  \n",
    "def dispaly(str,int_x,float_y):\n",
    "    print(\"the string is \",str)\n",
    "    print(\"the integer is \",int_x)\n",
    "    print(\"the float is \",float_y)\n",
    "display(float_y = 5678.9998,str=\"hi\",int_x=1234)  "
   ]
  },
  {
   "cell_type": "code",
   "execution_count": 46,
   "id": "b62c945d",
   "metadata": {},
   "outputs": [
    {
     "name": "stdout",
     "output_type": "stream",
     "text": [
      "the Name is  ram\n",
      "the Age is  21\n",
      "the salary is  5000000.22\n"
     ]
    }
   ],
   "source": [
    "def display(name,age,salary):\n",
    "    print(\"the Name is \",name)\n",
    "    print(\"the Age is \",age)\n",
    "    print(\"the salary is \",salary)\n",
    "a=\"ram\"\n",
    "b=21\n",
    "c=5000000.22\n",
    "display(salary=c,name=a,age=b)\n",
    "#display(salary=500000.22,name=\"ram\",age=21)"
   ]
  },
  {
   "cell_type": "code",
   "execution_count": 49,
   "id": "23f542c6",
   "metadata": {},
   "outputs": [
    {
     "name": "stdout",
     "output_type": "stream",
     "text": [
      "sum= 60\n"
     ]
    }
   ],
   "source": [
    "addition=lambda x,y,z:x+y+z\n",
    "print(\"sum=\",addition(10,20,30))\n",
    "'''\n",
    "1.lambda fun have no names\n",
    "2. it can take n number of attributes\n",
    "3.it can only return 1 value\n",
    "4.lambda fun cannot access global access\n",
    "5.can't access var other than their parametes list\n",
    "6.can't contain multi parameters\n",
    "7.doesn't have explict return statements"
   ]
  },
  {
   "cell_type": "code",
   "execution_count": 54,
   "id": "d365b72c",
   "metadata": {},
   "outputs": [
    {
     "name": "stdout",
     "output_type": "stream",
     "text": [
      "smaller of two no: -5\n"
     ]
    }
   ],
   "source": [
    "#program to find smaller numbers  by lambda\n",
    "def small(a,b):\n",
    "    if(a<b):\n",
    "        return a\n",
    "    else:\n",
    "        return b\n",
    "add=lambda x,y:x+y\n",
    "diff=lambda x,y:x-y\n",
    "print(\"smaller of two no:\",small(add(-3,-2),diff(-1,2)))"
   ]
  },
  {
   "cell_type": "code",
   "execution_count": 56,
   "id": "3fef1275",
   "metadata": {},
   "outputs": [
    {
     "name": "stdout",
     "output_type": "stream",
     "text": [
      "a= 100\n",
      "101\n"
     ]
    }
   ],
   "source": [
    "def increment(y):\n",
    "        return (lambda x:x+1)(y)\n",
    "a=100    \n",
    "print(\"a=\",a)\n",
    "b=increment(a)\n",
    "print(b)"
   ]
  },
  {
   "cell_type": "code",
   "execution_count": 58,
   "id": "883aa8ae",
   "metadata": {},
   "outputs": [
    {
     "name": "stdout",
     "output_type": "stream",
     "text": [
      "8\n",
      "9\n"
     ]
    }
   ],
   "source": [
    "#program to pass a lambda fun as a function arg\n",
    "def fun(f,n):\n",
    "    print(f(n))\n",
    "twice=lambda x:x*2\n",
    "triple=lambda x:x*3\n",
    "fun(twice,4)\n",
    "fun(triple,3)\n",
    "\n"
   ]
  },
  {
   "cell_type": "code",
   "execution_count": 59,
   "id": "a03d7e18",
   "metadata": {},
   "outputs": [
    {
     "name": "stdout",
     "output_type": "stream",
     "text": [
      "27\n"
     ]
    }
   ],
   "source": [
    "add=lambda x,y:x+y\n",
    "m_and_add=lambda x,y,z:x*add(y,z)\n",
    "print(m_and_add(3,4,5))"
   ]
  },
  {
   "cell_type": "code",
   "execution_count": 60,
   "id": "291bf9cb",
   "metadata": {},
   "outputs": [
    {
     "name": "stdout",
     "output_type": "stream",
     "text": [
      "55\n"
     ]
    }
   ],
   "source": [
    "x=lambda :sum(range(1,11))\n",
    "print(x())"
   ]
  },
  {
   "cell_type": "code",
   "execution_count": 61,
   "id": "b80370ed",
   "metadata": {},
   "outputs": [
    {
     "name": "stdout",
     "output_type": "stream",
     "text": [
      "before swaping\n",
      "a= 10\n",
      "b= 20\n",
      "after swaping\n",
      "x= 20\n",
      "y= 10\n"
     ]
    }
   ],
   "source": [
    "#swap functions\n",
    "def swapi(x,y):\n",
    "    x,y=y,x\n",
    "    print(\"after swaping\")\n",
    "    print(\"x=\",x)\n",
    "    print(\"y=\",y)\n",
    "a=10 \n",
    "b=20\n",
    "print(\"before swaping\")\n",
    "print(\"a=\",a)\n",
    "print(\"b=\",b)\n",
    "swapi(a,b)"
   ]
  },
  {
   "cell_type": "code",
   "execution_count": 72,
   "id": "a7e6e7c4",
   "metadata": {},
   "outputs": [
    {
     "data": {
      "text/plain": [
       "'sathwik reddy bheemreddy'"
      ]
     },
     "execution_count": 72,
     "metadata": {},
     "output_type": "execute_result"
    }
   ],
   "source": [
    "''' write a program to return the full name of a person where 1st variable passed is first name,2nd variable passed is last name\n",
    "'''\n",
    "fn=\"sathwik reddy\"\n",
    "ln=\" bheemreddy\"\n",
    "def name(fn,ln):\n",
    "    name=fn+ln\n",
    "    return name\n",
    "name(fn,ln)\n",
    "    "
   ]
  },
  {
   "cell_type": "code",
   "execution_count": 70,
   "id": "81b03461",
   "metadata": {},
   "outputs": [
    {
     "name": "stdout",
     "output_type": "stream",
     "text": [
      "sathwik bheemreddy\n"
     ]
    }
   ],
   "source": [
    "def name(fn,ln):\n",
    "    s=' '\n",
    "    n=fn+s+ln\n",
    "    return n\n",
    "print(name(\"sathwik\",\"bheemreddy\"))\n"
   ]
  },
  {
   "cell_type": "code",
   "execution_count": 73,
   "id": "7fa19e83",
   "metadata": {},
   "outputs": [
    {
     "name": "stdout",
     "output_type": "stream",
     "text": [
      "odd\n"
     ]
    }
   ],
   "source": [
    "def eo(a):\n",
    "    if a%2==0:\n",
    "        return 1\n",
    "    else:\n",
    "        return -1\n",
    "a=5\n",
    "temp=eo(5)\n",
    "if temp==1:\n",
    "    print('even')\n",
    "else:\n",
    "    print(\"odd\")\n"
   ]
  },
  {
   "cell_type": "code",
   "execution_count": 75,
   "id": "9068e558",
   "metadata": {},
   "outputs": [
    {
     "name": "stdout",
     "output_type": "stream",
     "text": [
      "3\n",
      "4\n"
     ]
    },
    {
     "ename": "NameError",
     "evalue": "name 'y' is not defined",
     "output_type": "error",
     "traceback": [
      "\u001b[1;31m---------------------------------------------------------------------------\u001b[0m",
      "\u001b[1;31mNameError\u001b[0m                                 Traceback (most recent call last)",
      "Cell \u001b[1;32mIn[75], line 9\u001b[0m\n\u001b[0;32m      7\u001b[0m n\u001b[38;5;241m=\u001b[39m\u001b[38;5;28mint\u001b[39m(\u001b[38;5;28minput\u001b[39m())\n\u001b[0;32m      8\u001b[0m m\u001b[38;5;241m=\u001b[39m\u001b[38;5;28mint\u001b[39m (\u001b[38;5;28minput\u001b[39m())\n\u001b[1;32m----> 9\u001b[0m \u001b[38;5;28mprint\u001b[39m(\u001b[38;5;124m\"\u001b[39m\u001b[38;5;124mresult=\u001b[39m\u001b[38;5;124m\"\u001b[39m,expo(x,\u001b[43my\u001b[49m))\n",
      "\u001b[1;31mNameError\u001b[0m: name 'y' is not defined"
     ]
    }
   ],
   "source": [
    "#program to find the exp(x,y) using recurssion function\n",
    "def expo(x,y):\n",
    "    if y==0:\n",
    "        return 1\n",
    "    else:\n",
    "        return(x*expo(x.y-1))\n",
    "n=int(input())\n",
    "m=int (input())\n",
    "print(\"result=\",expo(n,m))"
   ]
  },
  {
   "cell_type": "code",
   "execution_count": 76,
   "id": "7fdb4cd0",
   "metadata": {},
   "outputs": [
    {
     "name": "stdout",
     "output_type": "stream",
     "text": [
      "Enter a number=10\n",
      "fibbo( 0 )= 1\n",
      "fibbo( 1 )= 1\n",
      "fibbo( 2 )= 2\n",
      "fibbo( 3 )= 3\n",
      "fibbo( 4 )= 5\n",
      "fibbo( 5 )= 8\n",
      "fibbo( 6 )= 13\n",
      "fibbo( 7 )= 21\n",
      "fibbo( 8 )= 34\n",
      "fibbo( 9 )= 55\n"
     ]
    }
   ],
   "source": [
    "#recurssion of fibonacci series\n",
    "num=int(input(\"Enter a number=\"))\n",
    "def fibbo(num):\n",
    "    if (num<2):\n",
    "        return 1\n",
    "    else:\n",
    "        return (fibbo(num-1)+fibbo(num-2))\n",
    "for i in range(num):\n",
    "    print(\"fibbo(\",i,\")=\",fibbo(i))"
   ]
  },
  {
   "cell_type": "code",
   "execution_count": 78,
   "id": "60b97345",
   "metadata": {},
   "outputs": [
    {
     "name": "stdout",
     "output_type": "stream",
     "text": [
      "Move disk 1 from source A to destination C\n",
      "Move disk 2 from source A to destination B\n",
      "Move disk 1 from source C to destination B\n",
      "Move disk 3 from source A to destination C\n",
      "Move disk 1 from source B to destination A\n",
      "Move disk 2 from source B to destination C\n",
      "Move disk 1 from source A to destination C\n",
      "Move disk 4 from source A to destination B\n",
      "Move disk 1 from source C to destination B\n",
      "Move disk 2 from source C to destination A\n",
      "Move disk 1 from source B to destination A\n",
      "Move disk 3 from source C to destination B\n",
      "Move disk 1 from source A to destination C\n",
      "Move disk 2 from source A to destination B\n",
      "Move disk 1 from source C to destination B\n"
     ]
    }
   ],
   "source": [
    "#towers of hanoi using recursion\n",
    "def TowerOfHanoi(n , source, destination, auxiliary):\n",
    "    if n==1:\n",
    "        print (\"Move disk 1 from source\",source,\"to destination\",destination)\n",
    "        return\n",
    "    TowerOfHanoi(n-1, source, auxiliary, destination)\n",
    "    print (\"Move disk\",n,\"from source\",source,\"to destination\",destination)\n",
    "    TowerOfHanoi(n-1, auxiliary, destination, source)\n",
    "         \n",
    "\n",
    "n = 4\n",
    "TowerOfHanoi(n,'A','B','C')\n",
    "# A, C, B are the name of rods"
   ]
  },
  {
   "cell_type": "code",
   "execution_count": 80,
   "id": "20eea2b0",
   "metadata": {},
   "outputs": [
    {
     "name": "stdout",
     "output_type": "stream",
     "text": [
      "enter the string with charram*charan\n",
      "enter the string for matchram\n",
      "with wild characters: ram*charan\n",
      "without wild characters: ram\n",
      "False\n"
     ]
    }
   ],
   "source": [
    "#check if two strings match where\n",
    "#one string contains widcard characters\n",
    "def solve(a,b):\n",
    "    n,m=len(a),len(b)\n",
    "    if n==0 and m==0:\n",
    "        return True\n",
    "    if n>1 and a[0]=='*'and m==0:\n",
    "        return False\n",
    "    if(n>1 and a[0]==\"?\")or(n!=0 and m!=0 and a[0]==b[0]):\n",
    "        return solve(a[1:],b[1:])\n",
    "    if n!=0 and a[0] == '*':\n",
    "        return solve(a[1:],b) or solve(a.b[1:])\n",
    "    return false\n",
    "x=str(input(\"enter the string with char\"))\n",
    "y=str(input(\"enter the string for match\"))\n",
    "print(\"with wild characters:\",x)\n",
    "print(\"without wild characters:\",y)\n",
    "print(solve(x,y))\n",
    "        \n",
    "        "
   ]
  },
  {
   "cell_type": "code",
   "execution_count": null,
   "id": "e64d5aa8",
   "metadata": {},
   "outputs": [],
   "source": []
  }
 ],
 "metadata": {
  "kernelspec": {
   "display_name": "Python 3 (ipykernel)",
   "language": "python",
   "name": "python3"
  },
  "language_info": {
   "codemirror_mode": {
    "name": "ipython",
    "version": 3
   },
   "file_extension": ".py",
   "mimetype": "text/x-python",
   "name": "python",
   "nbconvert_exporter": "python",
   "pygments_lexer": "ipython3",
   "version": "3.11.1"
  }
 },
 "nbformat": 4,
 "nbformat_minor": 5
}
